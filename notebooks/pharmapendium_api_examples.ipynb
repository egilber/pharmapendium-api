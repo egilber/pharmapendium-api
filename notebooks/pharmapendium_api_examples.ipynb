{
 "cells": [
  {
   "cell_type": "code",
   "execution_count": 1,
   "metadata": {
    "Collapsed": "false"
   },
   "outputs": [],
   "source": [
    "%reload_ext autoreload\n",
    "%autoreload 2\n",
    "%matplotlib inline"
   ]
  },
  {
   "cell_type": "code",
   "execution_count": 2,
   "metadata": {
    "Collapsed": "false"
   },
   "outputs": [],
   "source": [
    "%%capture\n",
    "%pwd"
   ]
  },
  {
   "cell_type": "code",
   "execution_count": 3,
   "metadata": {
    "Collapsed": "false"
   },
   "outputs": [],
   "source": [
    "%%capture\n",
    "cd .."
   ]
  },
  {
   "cell_type": "code",
   "execution_count": 4,
   "metadata": {
    "Collapsed": "false",
    "pycharm": {
     "is_executing": false
    }
   },
   "outputs": [],
   "source": [
    "PATH=%pwd"
   ]
  },
  {
   "cell_type": "code",
   "execution_count": 5,
   "metadata": {
    "Collapsed": "false"
   },
   "outputs": [],
   "source": [
    "%%capture\n",
    "PATH"
   ]
  },
  {
   "cell_type": "code",
   "execution_count": 6,
   "metadata": {
    "Collapsed": "false"
   },
   "outputs": [],
   "source": [
    "from random import sample \n",
    "from src.funcs.utils import *"
   ]
  },
  {
   "cell_type": "code",
   "execution_count": 7,
   "metadata": {
    "Collapsed": "false",
    "pycharm": {
     "is_executing": false
    }
   },
   "outputs": [],
   "source": [
    "import os\n",
    "from dotenv import load_dotenv\n",
    "load_dotenv()\n",
    "api_key=os.getenv('PP_API_KEY')\n",
    "insttoken=os.getenv('PP_INSTTOKEN')\n"
   ]
  },
  {
   "cell_type": "code",
   "execution_count": 8,
   "metadata": {
    "Collapsed": "false",
    "pycharm": {
     "is_executing": false
    }
   },
   "outputs": [],
   "source": [
    "from IPython.core.interactiveshell import InteractiveShell\n",
    "InteractiveShell.ast_node_interactivity = \"all\""
   ]
  },
  {
   "cell_type": "markdown",
   "metadata": {
    "Collapsed": "false",
    "toc-hr-collapsed": true,
    "toc-nb-collapsed": true
   },
   "source": [
    "### Pharmapendium Safety Query"
   ]
  },
  {
   "cell_type": "markdown",
   "metadata": {
    "Collapsed": "false"
   },
   "source": [
    "#### Query for Available Data Fields"
   ]
  },
  {
   "cell_type": "code",
   "execution_count": 9,
   "metadata": {
    "Collapsed": "false"
   },
   "outputs": [],
   "source": [
    "parameters = dict()\n",
    "parameters['apiKey'] = api_key\n",
    "parameters['insttoken'] = insttoken\n",
    "url_safety_fields = os.getenv('URL_SAFETY_FIELDS')"
   ]
  },
  {
   "cell_type": "code",
   "execution_count": 10,
   "metadata": {
    "Collapsed": "false"
   },
   "outputs": [],
   "source": [
    "df_fields=get_data_fields(url_safety_fields, parameters)"
   ]
  },
  {
   "cell_type": "code",
   "execution_count": 11,
   "metadata": {
    "Collapsed": "false"
   },
   "outputs": [
    {
     "data": {
      "text/html": [
       "<div>\n",
       "<style scoped>\n",
       "    .dataframe tbody tr th:only-of-type {\n",
       "        vertical-align: middle;\n",
       "    }\n",
       "\n",
       "    .dataframe tbody tr th {\n",
       "        vertical-align: top;\n",
       "    }\n",
       "\n",
       "    .dataframe thead th {\n",
       "        text-align: right;\n",
       "    }\n",
       "</style>\n",
       "<table border=\"1\" class=\"dataframe\">\n",
       "  <thead>\n",
       "    <tr style=\"text-align: right;\">\n",
       "      <th></th>\n",
       "      <th></th>\n",
       "    </tr>\n",
       "  </thead>\n",
       "  <tbody>\n",
       "    <tr>\n",
       "      <th>0</th>\n",
       "      <td>specie</td>\n",
       "    </tr>\n",
       "    <tr>\n",
       "      <th>1</th>\n",
       "      <td>dose</td>\n",
       "    </tr>\n",
       "    <tr>\n",
       "      <th>2</th>\n",
       "      <td>route</td>\n",
       "    </tr>\n",
       "    <tr>\n",
       "      <th>3</th>\n",
       "      <td>smiles</td>\n",
       "    </tr>\n",
       "    <tr>\n",
       "      <th>4</th>\n",
       "      <td>document</td>\n",
       "    </tr>\n",
       "    <tr>\n",
       "      <th>5</th>\n",
       "      <td>effect</td>\n",
       "    </tr>\n",
       "    <tr>\n",
       "      <th>6</th>\n",
       "      <td>documentYear</td>\n",
       "    </tr>\n",
       "    <tr>\n",
       "      <th>7</th>\n",
       "      <td>doseType</td>\n",
       "    </tr>\n",
       "    <tr>\n",
       "      <th>8</th>\n",
       "      <td>source</td>\n",
       "    </tr>\n",
       "    <tr>\n",
       "      <th>9</th>\n",
       "      <td>id</td>\n",
       "    </tr>\n",
       "    <tr>\n",
       "      <th>10</th>\n",
       "      <td>drug</td>\n",
       "    </tr>\n",
       "  </tbody>\n",
       "</table>\n",
       "</div>"
      ],
      "text/plain": [
       "                \n",
       "0         specie\n",
       "1           dose\n",
       "2          route\n",
       "3         smiles\n",
       "4       document\n",
       "5         effect\n",
       "6   documentYear\n",
       "7       doseType\n",
       "8         source\n",
       "9             id\n",
       "10          drug"
      ]
     },
     "execution_count": 11,
     "metadata": {},
     "output_type": "execute_result"
    }
   ],
   "source": [
    "df_fields"
   ]
  },
  {
   "cell_type": "markdown",
   "metadata": {
    "Collapsed": "false"
   },
   "source": [
    "#### Query for Available Facet Fields"
   ]
  },
  {
   "cell_type": "code",
   "execution_count": 123,
   "metadata": {
    "Collapsed": "false"
   },
   "outputs": [],
   "source": [
    "parameters = dict()\n",
    "parameters['apiKey'] = api_key\n",
    "parameters['insttoken'] = insttoken\n",
    "url_facets = os.getenv('URL_SAFETY_FACET_FIELDS')\n"
   ]
  },
  {
   "cell_type": "code",
   "execution_count": 13,
   "metadata": {
    "Collapsed": "false"
   },
   "outputs": [],
   "source": [
    "df_facets=get_facet_fields(url_facets, parameters)"
   ]
  },
  {
   "cell_type": "code",
   "execution_count": 14,
   "metadata": {
    "Collapsed": "false"
   },
   "outputs": [
    {
     "data": {
      "text/html": [
       "<div>\n",
       "<style scoped>\n",
       "    .dataframe tbody tr th:only-of-type {\n",
       "        vertical-align: middle;\n",
       "    }\n",
       "\n",
       "    .dataframe tbody tr th {\n",
       "        vertical-align: top;\n",
       "    }\n",
       "\n",
       "    .dataframe thead th {\n",
       "        text-align: right;\n",
       "    }\n",
       "</style>\n",
       "<table border=\"1\" class=\"dataframe\">\n",
       "  <thead>\n",
       "    <tr style=\"text-align: right;\">\n",
       "      <th></th>\n",
       "      <th>facet_fields</th>\n",
       "    </tr>\n",
       "  </thead>\n",
       "  <tbody>\n",
       "    <tr>\n",
       "      <th>0</th>\n",
       "      <td>drugs</td>\n",
       "    </tr>\n",
       "    <tr>\n",
       "      <th>1</th>\n",
       "      <td>species</td>\n",
       "    </tr>\n",
       "    <tr>\n",
       "      <th>2</th>\n",
       "      <td>sources</td>\n",
       "    </tr>\n",
       "    <tr>\n",
       "      <th>3</th>\n",
       "      <td>effects</td>\n",
       "    </tr>\n",
       "    <tr>\n",
       "      <th>4</th>\n",
       "      <td>route</td>\n",
       "    </tr>\n",
       "    <tr>\n",
       "      <th>5</th>\n",
       "      <td>doseType</td>\n",
       "    </tr>\n",
       "    <tr>\n",
       "      <th>6</th>\n",
       "      <td>documentYear</td>\n",
       "    </tr>\n",
       "  </tbody>\n",
       "</table>\n",
       "</div>"
      ],
      "text/plain": [
       "   facet_fields\n",
       "0         drugs\n",
       "1       species\n",
       "2       sources\n",
       "3       effects\n",
       "4         route\n",
       "5      doseType\n",
       "6  documentYear"
      ]
     },
     "execution_count": 14,
     "metadata": {},
     "output_type": "execute_result"
    }
   ],
   "source": [
    "df_facets"
   ]
  },
  {
   "cell_type": "markdown",
   "metadata": {
    "Collapsed": "false"
   },
   "source": [
    "#### Query for All Clinical Drugs"
   ]
  },
  {
   "cell_type": "code",
   "execution_count": 124,
   "metadata": {
    "Collapsed": "false"
   },
   "outputs": [],
   "source": [
    "parameters=dict()\n",
    "\n",
    "parameters['apiKey']=api_key\n",
    "parameters['insttoken']=insttoken\n",
    "parameters[\"limitation.count\"] = 0\n",
    "parameters[\"facets\"]=\"drugs\"\n",
    "parameters['specie']='human'\n",
    "parameters['leaf']=True\n",
    "url_safety=os.getenv('URL_SAFETY_SEARCH')"
   ]
  },
  {
   "cell_type": "code",
   "execution_count": 125,
   "metadata": {
    "Collapsed": "false"
   },
   "outputs": [
    {
     "data": {
      "text/plain": [
       "200"
      ]
     },
     "execution_count": 125,
     "metadata": {},
     "output_type": "execute_result"
    }
   ],
   "source": [
    "with requests.Session() as s:\n",
    "    r = s.get(url_safety, params=parameters)\n",
    "r.status_code "
   ]
  },
  {
   "cell_type": "code",
   "execution_count": 126,
   "metadata": {
    "Collapsed": "false"
   },
   "outputs": [],
   "source": [
    "drugs_df=get_drugs(url_safety, parameters)"
   ]
  },
  {
   "cell_type": "code",
   "execution_count": 128,
   "metadata": {
    "Collapsed": "false"
   },
   "outputs": [
    {
     "name": "stdout",
     "output_type": "stream",
     "text": [
      "<class 'pandas.core.frame.DataFrame'>\n",
      "RangeIndex: 4176 entries, 0 to 4175\n",
      "Data columns (total 1 columns):\n",
      "drug    4176 non-null object\n",
      "dtypes: object(1)\n",
      "memory usage: 32.8+ KB\n"
     ]
    },
    {
     "data": {
      "text/html": [
       "<div>\n",
       "<style scoped>\n",
       "    .dataframe tbody tr th:only-of-type {\n",
       "        vertical-align: middle;\n",
       "    }\n",
       "\n",
       "    .dataframe tbody tr th {\n",
       "        vertical-align: top;\n",
       "    }\n",
       "\n",
       "    .dataframe thead th {\n",
       "        text-align: right;\n",
       "    }\n",
       "</style>\n",
       "<table border=\"1\" class=\"dataframe\">\n",
       "  <thead>\n",
       "    <tr style=\"text-align: right;\">\n",
       "      <th></th>\n",
       "      <th>drug</th>\n",
       "    </tr>\n",
       "  </thead>\n",
       "  <tbody>\n",
       "    <tr>\n",
       "      <th>0</th>\n",
       "      <td>1-13C-Caprylic Acid</td>\n",
       "    </tr>\n",
       "    <tr>\n",
       "      <th>1</th>\n",
       "      <td>5-Methoxypsoralen</td>\n",
       "    </tr>\n",
       "    <tr>\n",
       "      <th>2</th>\n",
       "      <td>Abacavir Sulfate</td>\n",
       "    </tr>\n",
       "    <tr>\n",
       "      <th>3</th>\n",
       "      <td>Abacavir Sulfate; Dolutegravir Sodium; Lamivudine</td>\n",
       "    </tr>\n",
       "    <tr>\n",
       "      <th>4</th>\n",
       "      <td>Abacavir Sulfate; Lamivudine</td>\n",
       "    </tr>\n",
       "    <tr>\n",
       "      <th>5</th>\n",
       "      <td>Abacavir Sulfate; Lamivudine; Zidovudine</td>\n",
       "    </tr>\n",
       "    <tr>\n",
       "      <th>6</th>\n",
       "      <td>Abaloparatide</td>\n",
       "    </tr>\n",
       "    <tr>\n",
       "      <th>7</th>\n",
       "      <td>Abametapir</td>\n",
       "    </tr>\n",
       "    <tr>\n",
       "      <th>8</th>\n",
       "      <td>Abarelix</td>\n",
       "    </tr>\n",
       "    <tr>\n",
       "      <th>9</th>\n",
       "      <td>Abatacept</td>\n",
       "    </tr>\n",
       "  </tbody>\n",
       "</table>\n",
       "</div>"
      ],
      "text/plain": [
       "                                                drug\n",
       "0                                1-13C-Caprylic Acid\n",
       "1                                  5-Methoxypsoralen\n",
       "2                                   Abacavir Sulfate\n",
       "3  Abacavir Sulfate; Dolutegravir Sodium; Lamivudine\n",
       "4                       Abacavir Sulfate; Lamivudine\n",
       "5           Abacavir Sulfate; Lamivudine; Zidovudine\n",
       "6                                      Abaloparatide\n",
       "7                                         Abametapir\n",
       "8                                           Abarelix\n",
       "9                                          Abatacept"
      ]
     },
     "execution_count": 128,
     "metadata": {},
     "output_type": "execute_result"
    }
   ],
   "source": [
    "drugs_df.info(); drugs_df.head(10)"
   ]
  },
  {
   "cell_type": "code",
   "execution_count": 19,
   "metadata": {
    "Collapsed": "false"
   },
   "outputs": [],
   "source": [
    "drugs_df.to_pickle(f'{PATH}/data/raw/clinical_drugs.pkl')"
   ]
  },
  {
   "cell_type": "markdown",
   "metadata": {
    "Collapsed": "false"
   },
   "source": [
    "#### Query for Pre-Marketing Adverse Events"
   ]
  },
  {
   "cell_type": "code",
   "execution_count": 20,
   "metadata": {
    "Collapsed": "false"
   },
   "outputs": [],
   "source": [
    "drugs_df=pd.read_pickle(f'{PATH}/data/raw/clinical_drugs.pkl')"
   ]
  },
  {
   "cell_type": "code",
   "execution_count": 21,
   "metadata": {
    "Collapsed": "false"
   },
   "outputs": [
    {
     "name": "stdout",
     "output_type": "stream",
     "text": [
      "<class 'pandas.core.frame.DataFrame'>\n",
      "RangeIndex: 4176 entries, 0 to 4175\n",
      "Data columns (total 1 columns):\n",
      "drug    4176 non-null object\n",
      "dtypes: object(1)\n",
      "memory usage: 32.8+ KB\n"
     ]
    },
    {
     "data": {
      "text/html": [
       "<div>\n",
       "<style scoped>\n",
       "    .dataframe tbody tr th:only-of-type {\n",
       "        vertical-align: middle;\n",
       "    }\n",
       "\n",
       "    .dataframe tbody tr th {\n",
       "        vertical-align: top;\n",
       "    }\n",
       "\n",
       "    .dataframe thead th {\n",
       "        text-align: right;\n",
       "    }\n",
       "</style>\n",
       "<table border=\"1\" class=\"dataframe\">\n",
       "  <thead>\n",
       "    <tr style=\"text-align: right;\">\n",
       "      <th></th>\n",
       "      <th>drug</th>\n",
       "    </tr>\n",
       "  </thead>\n",
       "  <tbody>\n",
       "    <tr>\n",
       "      <th>0</th>\n",
       "      <td>1-13C-Caprylic Acid</td>\n",
       "    </tr>\n",
       "    <tr>\n",
       "      <th>1</th>\n",
       "      <td>5-Methoxypsoralen</td>\n",
       "    </tr>\n",
       "    <tr>\n",
       "      <th>2</th>\n",
       "      <td>Abacavir Sulfate</td>\n",
       "    </tr>\n",
       "    <tr>\n",
       "      <th>3</th>\n",
       "      <td>Abacavir Sulfate; Dolutegravir Sodium; Lamivudine</td>\n",
       "    </tr>\n",
       "    <tr>\n",
       "      <th>4</th>\n",
       "      <td>Abacavir Sulfate; Lamivudine</td>\n",
       "    </tr>\n",
       "  </tbody>\n",
       "</table>\n",
       "</div>"
      ],
      "text/plain": [
       "                                                drug\n",
       "0                                1-13C-Caprylic Acid\n",
       "1                                  5-Methoxypsoralen\n",
       "2                                   Abacavir Sulfate\n",
       "3  Abacavir Sulfate; Dolutegravir Sodium; Lamivudine\n",
       "4                       Abacavir Sulfate; Lamivudine"
      ]
     },
     "execution_count": 21,
     "metadata": {},
     "output_type": "execute_result"
    }
   ],
   "source": [
    "drugs_df.info(); drugs_df.head()"
   ]
  },
  {
   "cell_type": "code",
   "execution_count": 22,
   "metadata": {
    "Collapsed": "false"
   },
   "outputs": [
    {
     "data": {
      "text/plain": [
       "4176"
      ]
     },
     "execution_count": 22,
     "metadata": {},
     "output_type": "execute_result"
    }
   ],
   "source": [
    "drug_list=list(drugs_df.drug)\n",
    "len(drug_list)\n",
    "drug_list=drug_list[:5]"
   ]
  },
  {
   "cell_type": "code",
   "execution_count": 23,
   "metadata": {
    "Collapsed": "false"
   },
   "outputs": [],
   "source": [
    "parameters = dict()\n",
    "\n",
    "parameters['apiKey']=api_key\n",
    "parameters['insttoken']=insttoken\n",
    "parameters['limitation.count']=0\n",
    "parameters['species']='human'\n",
    "parameters['leaf']=True\n",
    "parameters['facets'] = 'effects'\n",
    "url_safety = os.getenv('URL_SAFETY_SEARCH')"
   ]
  },
  {
   "cell_type": "code",
   "execution_count": 24,
   "metadata": {
    "Collapsed": "false"
   },
   "outputs": [
    {
     "name": "stderr",
     "output_type": "stream",
     "text": [
      "100%|████████████████████████████████████████████████████████████████████████████████████| 5/5 [00:03<00:00,  1.61it/s]\n"
     ]
    }
   ],
   "source": [
    "df_aes=get_drug_ae(url_safety, drug_list, parameters)"
   ]
  },
  {
   "cell_type": "code",
   "execution_count": 25,
   "metadata": {
    "Collapsed": "false"
   },
   "outputs": [
    {
     "name": "stdout",
     "output_type": "stream",
     "text": [
      "<class 'pandas.core.frame.DataFrame'>\n",
      "RangeIndex: 601 entries, 0 to 600\n",
      "Data columns (total 2 columns):\n",
      "drug_name    601 non-null object\n",
      "ae           600 non-null object\n",
      "dtypes: object(2)\n",
      "memory usage: 9.5+ KB\n"
     ]
    },
    {
     "data": {
      "text/html": [
       "<div>\n",
       "<style scoped>\n",
       "    .dataframe tbody tr th:only-of-type {\n",
       "        vertical-align: middle;\n",
       "    }\n",
       "\n",
       "    .dataframe tbody tr th {\n",
       "        vertical-align: top;\n",
       "    }\n",
       "\n",
       "    .dataframe thead th {\n",
       "        text-align: right;\n",
       "    }\n",
       "</style>\n",
       "<table border=\"1\" class=\"dataframe\">\n",
       "  <thead>\n",
       "    <tr style=\"text-align: right;\">\n",
       "      <th></th>\n",
       "      <th>drug_name</th>\n",
       "      <th>ae</th>\n",
       "    </tr>\n",
       "  </thead>\n",
       "  <tbody>\n",
       "    <tr>\n",
       "      <th>0</th>\n",
       "      <td>1-13C-Caprylic Acid</td>\n",
       "      <td>None</td>\n",
       "    </tr>\n",
       "    <tr>\n",
       "      <th>1</th>\n",
       "      <td>5-Methoxypsoralen</td>\n",
       "      <td>acanthoma</td>\n",
       "    </tr>\n",
       "    <tr>\n",
       "      <th>2</th>\n",
       "      <td>5-Methoxypsoralen</td>\n",
       "      <td>acne</td>\n",
       "    </tr>\n",
       "    <tr>\n",
       "      <th>3</th>\n",
       "      <td>5-Methoxypsoralen</td>\n",
       "      <td>acute generalised exanthematous pustulosis</td>\n",
       "    </tr>\n",
       "    <tr>\n",
       "      <th>4</th>\n",
       "      <td>5-Methoxypsoralen</td>\n",
       "      <td>acute leukaemia</td>\n",
       "    </tr>\n",
       "  </tbody>\n",
       "</table>\n",
       "</div>"
      ],
      "text/plain": [
       "             drug_name                                          ae\n",
       "0  1-13C-Caprylic Acid                                        None\n",
       "1    5-Methoxypsoralen                                   acanthoma\n",
       "2    5-Methoxypsoralen                                        acne\n",
       "3    5-Methoxypsoralen  acute generalised exanthematous pustulosis\n",
       "4    5-Methoxypsoralen                             acute leukaemia"
      ]
     },
     "execution_count": 25,
     "metadata": {},
     "output_type": "execute_result"
    }
   ],
   "source": [
    "df_aes.info(); df_aes.head()"
   ]
  },
  {
   "cell_type": "markdown",
   "metadata": {
    "Collapsed": "false",
    "toc-hr-collapsed": true,
    "toc-nb-collapsed": true
   },
   "source": [
    "### Pharmapendium PK Query"
   ]
  },
  {
   "cell_type": "code",
   "execution_count": 129,
   "metadata": {
    "Collapsed": "false"
   },
   "outputs": [],
   "source": [
    "parameters=dict()\n",
    "\n",
    "parameters['apiKey']=api_key\n",
    "parameters['insttoken']=insttoken\n",
    "parameters[\"limitation.count\"] = 0\n",
    "parameters[\"facets\"]=\"drugs\"\n",
    "parameters['specie']='human'\n",
    "parameters['leaf']=True\n",
    "url_pk=os.getenv('URL_PK_SEARCH')"
   ]
  },
  {
   "cell_type": "code",
   "execution_count": 27,
   "metadata": {
    "Collapsed": "false"
   },
   "outputs": [
    {
     "data": {
      "text/plain": [
       "200"
      ]
     },
     "execution_count": 27,
     "metadata": {},
     "output_type": "execute_result"
    }
   ],
   "source": [
    "with requests.Session() as s:\n",
    "    r = s.get(url_safety, params=parameters)\n",
    "r.status_code "
   ]
  },
  {
   "cell_type": "code",
   "execution_count": 28,
   "metadata": {
    "Collapsed": "false"
   },
   "outputs": [],
   "source": [
    "pk_drugs_df=get_drugs(url_safety, parameters)"
   ]
  },
  {
   "cell_type": "code",
   "execution_count": 29,
   "metadata": {
    "Collapsed": "false"
   },
   "outputs": [
    {
     "name": "stdout",
     "output_type": "stream",
     "text": [
      "<class 'pandas.core.frame.DataFrame'>\n",
      "RangeIndex: 4176 entries, 0 to 4175\n",
      "Data columns (total 1 columns):\n",
      "drug    4176 non-null object\n",
      "dtypes: object(1)\n",
      "memory usage: 32.8+ KB\n"
     ]
    },
    {
     "data": {
      "text/html": [
       "<div>\n",
       "<style scoped>\n",
       "    .dataframe tbody tr th:only-of-type {\n",
       "        vertical-align: middle;\n",
       "    }\n",
       "\n",
       "    .dataframe tbody tr th {\n",
       "        vertical-align: top;\n",
       "    }\n",
       "\n",
       "    .dataframe thead th {\n",
       "        text-align: right;\n",
       "    }\n",
       "</style>\n",
       "<table border=\"1\" class=\"dataframe\">\n",
       "  <thead>\n",
       "    <tr style=\"text-align: right;\">\n",
       "      <th></th>\n",
       "      <th>drug</th>\n",
       "    </tr>\n",
       "  </thead>\n",
       "  <tbody>\n",
       "    <tr>\n",
       "      <th>0</th>\n",
       "      <td>1-13C-Caprylic Acid</td>\n",
       "    </tr>\n",
       "    <tr>\n",
       "      <th>1</th>\n",
       "      <td>5-Methoxypsoralen</td>\n",
       "    </tr>\n",
       "    <tr>\n",
       "      <th>2</th>\n",
       "      <td>Abacavir Sulfate</td>\n",
       "    </tr>\n",
       "    <tr>\n",
       "      <th>3</th>\n",
       "      <td>Abacavir Sulfate; Dolutegravir Sodium; Lamivudine</td>\n",
       "    </tr>\n",
       "    <tr>\n",
       "      <th>4</th>\n",
       "      <td>Abacavir Sulfate; Lamivudine</td>\n",
       "    </tr>\n",
       "  </tbody>\n",
       "</table>\n",
       "</div>"
      ],
      "text/plain": [
       "                                                drug\n",
       "0                                1-13C-Caprylic Acid\n",
       "1                                  5-Methoxypsoralen\n",
       "2                                   Abacavir Sulfate\n",
       "3  Abacavir Sulfate; Dolutegravir Sodium; Lamivudine\n",
       "4                       Abacavir Sulfate; Lamivudine"
      ]
     },
     "execution_count": 29,
     "metadata": {},
     "output_type": "execute_result"
    }
   ],
   "source": [
    "pk_drugs_df.info(); pk_drugs_df.head()"
   ]
  },
  {
   "cell_type": "markdown",
   "metadata": {
    "Collapsed": "false"
   },
   "source": [
    "#### Query for Available Fields"
   ]
  },
  {
   "cell_type": "code",
   "execution_count": 30,
   "metadata": {
    "Collapsed": "false"
   },
   "outputs": [],
   "source": [
    "parameters = dict()\n",
    "\n",
    "parameters['apiKey'] = api_key\n",
    "parameters['insttoken'] = insttoken\n",
    "url_pk=os.getenv('URL_PK_FIELDS')"
   ]
  },
  {
   "cell_type": "code",
   "execution_count": 31,
   "metadata": {
    "Collapsed": "false"
   },
   "outputs": [],
   "source": [
    "df_fields=get_data_fields(url_pk, parameters)"
   ]
  },
  {
   "cell_type": "code",
   "execution_count": 32,
   "metadata": {
    "Collapsed": "false"
   },
   "outputs": [
    {
     "data": {
      "text/html": [
       "<div>\n",
       "<style scoped>\n",
       "    .dataframe tbody tr th:only-of-type {\n",
       "        vertical-align: middle;\n",
       "    }\n",
       "\n",
       "    .dataframe tbody tr th {\n",
       "        vertical-align: top;\n",
       "    }\n",
       "\n",
       "    .dataframe thead th {\n",
       "        text-align: right;\n",
       "    }\n",
       "</style>\n",
       "<table border=\"1\" class=\"dataframe\">\n",
       "  <thead>\n",
       "    <tr style=\"text-align: right;\">\n",
       "      <th></th>\n",
       "      <th></th>\n",
       "    </tr>\n",
       "  </thead>\n",
       "  <tbody>\n",
       "    <tr>\n",
       "      <th>0</th>\n",
       "      <td>specie</td>\n",
       "    </tr>\n",
       "    <tr>\n",
       "      <th>1</th>\n",
       "      <td>studyName</td>\n",
       "    </tr>\n",
       "    <tr>\n",
       "      <th>2</th>\n",
       "      <td>smiles</td>\n",
       "    </tr>\n",
       "    <tr>\n",
       "      <th>3</th>\n",
       "      <td>document</td>\n",
       "    </tr>\n",
       "    <tr>\n",
       "      <th>4</th>\n",
       "      <td>studyGroup</td>\n",
       "    </tr>\n",
       "    <tr>\n",
       "      <th>5</th>\n",
       "      <td>documentYear</td>\n",
       "    </tr>\n",
       "    <tr>\n",
       "      <th>6</th>\n",
       "      <td>source</td>\n",
       "    </tr>\n",
       "    <tr>\n",
       "      <th>7</th>\n",
       "      <td>sampleSize</td>\n",
       "    </tr>\n",
       "    <tr>\n",
       "      <th>8</th>\n",
       "      <td>metabolitesEnantiomers</td>\n",
       "    </tr>\n",
       "    <tr>\n",
       "      <th>9</th>\n",
       "      <td>drug</td>\n",
       "    </tr>\n",
       "    <tr>\n",
       "      <th>10</th>\n",
       "      <td>duration</td>\n",
       "    </tr>\n",
       "    <tr>\n",
       "      <th>11</th>\n",
       "      <td>unitOriginal</td>\n",
       "    </tr>\n",
       "    <tr>\n",
       "      <th>12</th>\n",
       "      <td>timeOfMeasurement</td>\n",
       "    </tr>\n",
       "    <tr>\n",
       "      <th>13</th>\n",
       "      <td>parameter</td>\n",
       "    </tr>\n",
       "    <tr>\n",
       "      <th>14</th>\n",
       "      <td>valueAverageNormalized</td>\n",
       "    </tr>\n",
       "    <tr>\n",
       "      <th>15</th>\n",
       "      <td>id</td>\n",
       "    </tr>\n",
       "    <tr>\n",
       "      <th>16</th>\n",
       "      <td>concomitants</td>\n",
       "    </tr>\n",
       "    <tr>\n",
       "      <th>17</th>\n",
       "      <td>displayValueNormalized</td>\n",
       "    </tr>\n",
       "    <tr>\n",
       "      <th>18</th>\n",
       "      <td>comments</td>\n",
       "    </tr>\n",
       "    <tr>\n",
       "      <th>19</th>\n",
       "      <td>tissueSpecific</td>\n",
       "    </tr>\n",
       "    <tr>\n",
       "      <th>20</th>\n",
       "      <td>sex</td>\n",
       "    </tr>\n",
       "    <tr>\n",
       "      <th>21</th>\n",
       "      <td>valueNormalized</td>\n",
       "    </tr>\n",
       "    <tr>\n",
       "      <th>22</th>\n",
       "      <td>concomitant</td>\n",
       "    </tr>\n",
       "    <tr>\n",
       "      <th>23</th>\n",
       "      <td>valueOriginal</td>\n",
       "    </tr>\n",
       "    <tr>\n",
       "      <th>24</th>\n",
       "      <td>unitNormalized</td>\n",
       "    </tr>\n",
       "    <tr>\n",
       "      <th>25</th>\n",
       "      <td>displayValue</td>\n",
       "    </tr>\n",
       "    <tr>\n",
       "      <th>26</th>\n",
       "      <td>pkAnalysis</td>\n",
       "    </tr>\n",
       "    <tr>\n",
       "      <th>27</th>\n",
       "      <td>dose</td>\n",
       "    </tr>\n",
       "    <tr>\n",
       "      <th>28</th>\n",
       "      <td>route</td>\n",
       "    </tr>\n",
       "    <tr>\n",
       "      <th>29</th>\n",
       "      <td>assay</td>\n",
       "    </tr>\n",
       "    <tr>\n",
       "      <th>30</th>\n",
       "      <td>radioLabel</td>\n",
       "    </tr>\n",
       "    <tr>\n",
       "      <th>31</th>\n",
       "      <td>parameters</td>\n",
       "    </tr>\n",
       "    <tr>\n",
       "      <th>32</th>\n",
       "      <td>studyNumber</td>\n",
       "    </tr>\n",
       "    <tr>\n",
       "      <th>33</th>\n",
       "      <td>standardDeviation</td>\n",
       "    </tr>\n",
       "    <tr>\n",
       "      <th>34</th>\n",
       "      <td>age</td>\n",
       "    </tr>\n",
       "    <tr>\n",
       "      <th>35</th>\n",
       "      <td>parameterDisplay</td>\n",
       "    </tr>\n",
       "  </tbody>\n",
       "</table>\n",
       "</div>"
      ],
      "text/plain": [
       "                          \n",
       "0                   specie\n",
       "1                studyName\n",
       "2                   smiles\n",
       "3                 document\n",
       "4               studyGroup\n",
       "5             documentYear\n",
       "6                   source\n",
       "7               sampleSize\n",
       "8   metabolitesEnantiomers\n",
       "9                     drug\n",
       "10                duration\n",
       "11            unitOriginal\n",
       "12       timeOfMeasurement\n",
       "13               parameter\n",
       "14  valueAverageNormalized\n",
       "15                      id\n",
       "16            concomitants\n",
       "17  displayValueNormalized\n",
       "18                comments\n",
       "19          tissueSpecific\n",
       "20                     sex\n",
       "21         valueNormalized\n",
       "22             concomitant\n",
       "23           valueOriginal\n",
       "24          unitNormalized\n",
       "25            displayValue\n",
       "26              pkAnalysis\n",
       "27                    dose\n",
       "28                   route\n",
       "29                   assay\n",
       "30              radioLabel\n",
       "31              parameters\n",
       "32             studyNumber\n",
       "33       standardDeviation\n",
       "34                     age\n",
       "35        parameterDisplay"
      ]
     },
     "execution_count": 32,
     "metadata": {},
     "output_type": "execute_result"
    }
   ],
   "source": [
    "df_fields"
   ]
  },
  {
   "cell_type": "markdown",
   "metadata": {
    "Collapsed": "false"
   },
   "source": [
    "#### Query for all PK parameters"
   ]
  },
  {
   "cell_type": "code",
   "execution_count": 33,
   "metadata": {
    "Collapsed": "false"
   },
   "outputs": [],
   "source": [
    "parameters=dict()\n",
    "\n",
    "parameters['apiKey']=api_key\n",
    "parameters['insttoken']=insttoken\n",
    "parameters['limitation.count']=0\n",
    "parameters['species']='human'\n",
    "parameters['facets']='parameters'\n",
    "parameters['leaf']=True\n",
    "url_pk=os.getenv('URL_PK_SEARCH')"
   ]
  },
  {
   "cell_type": "code",
   "execution_count": 34,
   "metadata": {
    "Collapsed": "false"
   },
   "outputs": [],
   "source": [
    "df_params=get_pk_params(url_pk, parameters)\n"
   ]
  },
  {
   "cell_type": "code",
   "execution_count": 35,
   "metadata": {
    "Collapsed": "false"
   },
   "outputs": [
    {
     "name": "stdout",
     "output_type": "stream",
     "text": [
      "<class 'pandas.core.frame.DataFrame'>\n",
      "RangeIndex: 99 entries, 0 to 98\n",
      "Data columns (total 1 columns):\n",
      "pk_parameters    99 non-null object\n",
      "dtypes: object(1)\n",
      "memory usage: 920.0+ bytes\n"
     ]
    },
    {
     "data": {
      "text/html": [
       "<div>\n",
       "<style scoped>\n",
       "    .dataframe tbody tr th:only-of-type {\n",
       "        vertical-align: middle;\n",
       "    }\n",
       "\n",
       "    .dataframe tbody tr th {\n",
       "        vertical-align: top;\n",
       "    }\n",
       "\n",
       "    .dataframe thead th {\n",
       "        text-align: right;\n",
       "    }\n",
       "</style>\n",
       "<table border=\"1\" class=\"dataframe\">\n",
       "  <thead>\n",
       "    <tr style=\"text-align: right;\">\n",
       "      <th></th>\n",
       "      <th>pk_parameters</th>\n",
       "    </tr>\n",
       "  </thead>\n",
       "  <tbody>\n",
       "    <tr>\n",
       "      <th>0</th>\n",
       "      <td>%absorbed</td>\n",
       "    </tr>\n",
       "    <tr>\n",
       "      <th>1</th>\n",
       "      <td>Ae</td>\n",
       "    </tr>\n",
       "    <tr>\n",
       "      <th>2</th>\n",
       "      <td>Air excretion</td>\n",
       "    </tr>\n",
       "    <tr>\n",
       "      <th>3</th>\n",
       "      <td>Alpha</td>\n",
       "    </tr>\n",
       "    <tr>\n",
       "      <th>4</th>\n",
       "      <td>Amount absorbed</td>\n",
       "    </tr>\n",
       "    <tr>\n",
       "      <th>...</th>\n",
       "      <td>...</td>\n",
       "    </tr>\n",
       "    <tr>\n",
       "      <th>94</th>\n",
       "      <td>Vd/F</td>\n",
       "    </tr>\n",
       "    <tr>\n",
       "      <th>95</th>\n",
       "      <td>Vss</td>\n",
       "    </tr>\n",
       "    <tr>\n",
       "      <th>96</th>\n",
       "      <td>Vss/F</td>\n",
       "    </tr>\n",
       "    <tr>\n",
       "      <th>97</th>\n",
       "      <td>Vz</td>\n",
       "    </tr>\n",
       "    <tr>\n",
       "      <th>98</th>\n",
       "      <td>Vz/F</td>\n",
       "    </tr>\n",
       "  </tbody>\n",
       "</table>\n",
       "<p>99 rows × 1 columns</p>\n",
       "</div>"
      ],
      "text/plain": [
       "      pk_parameters\n",
       "0         %absorbed\n",
       "1                Ae\n",
       "2     Air excretion\n",
       "3             Alpha\n",
       "4   Amount absorbed\n",
       "..              ...\n",
       "94             Vd/F\n",
       "95              Vss\n",
       "96            Vss/F\n",
       "97               Vz\n",
       "98             Vz/F\n",
       "\n",
       "[99 rows x 1 columns]"
      ]
     },
     "execution_count": 35,
     "metadata": {},
     "output_type": "execute_result"
    }
   ],
   "source": [
    "df_params.info(); df_params"
   ]
  },
  {
   "cell_type": "markdown",
   "metadata": {
    "Collapsed": "false"
   },
   "source": [
    "#### Query for PK Data"
   ]
  },
  {
   "cell_type": "code",
   "execution_count": 36,
   "metadata": {
    "Collapsed": "false"
   },
   "outputs": [],
   "source": [
    "drugs_df=pd.read_pickle(f'{PATH}/data/raw/clinical_drugs.pkl')"
   ]
  },
  {
   "cell_type": "code",
   "execution_count": 37,
   "metadata": {
    "Collapsed": "false"
   },
   "outputs": [
    {
     "data": {
      "text/html": [
       "<div>\n",
       "<style scoped>\n",
       "    .dataframe tbody tr th:only-of-type {\n",
       "        vertical-align: middle;\n",
       "    }\n",
       "\n",
       "    .dataframe tbody tr th {\n",
       "        vertical-align: top;\n",
       "    }\n",
       "\n",
       "    .dataframe thead th {\n",
       "        text-align: right;\n",
       "    }\n",
       "</style>\n",
       "<table border=\"1\" class=\"dataframe\">\n",
       "  <thead>\n",
       "    <tr style=\"text-align: right;\">\n",
       "      <th></th>\n",
       "      <th>drug</th>\n",
       "    </tr>\n",
       "  </thead>\n",
       "  <tbody>\n",
       "    <tr>\n",
       "      <th>0</th>\n",
       "      <td>1-13C-Caprylic Acid</td>\n",
       "    </tr>\n",
       "    <tr>\n",
       "      <th>1</th>\n",
       "      <td>5-Methoxypsoralen</td>\n",
       "    </tr>\n",
       "    <tr>\n",
       "      <th>2</th>\n",
       "      <td>Abacavir Sulfate</td>\n",
       "    </tr>\n",
       "    <tr>\n",
       "      <th>3</th>\n",
       "      <td>Abacavir Sulfate; Dolutegravir Sodium; Lamivudine</td>\n",
       "    </tr>\n",
       "    <tr>\n",
       "      <th>4</th>\n",
       "      <td>Abacavir Sulfate; Lamivudine</td>\n",
       "    </tr>\n",
       "  </tbody>\n",
       "</table>\n",
       "</div>"
      ],
      "text/plain": [
       "                                                drug\n",
       "0                                1-13C-Caprylic Acid\n",
       "1                                  5-Methoxypsoralen\n",
       "2                                   Abacavir Sulfate\n",
       "3  Abacavir Sulfate; Dolutegravir Sodium; Lamivudine\n",
       "4                       Abacavir Sulfate; Lamivudine"
      ]
     },
     "execution_count": 37,
     "metadata": {},
     "output_type": "execute_result"
    }
   ],
   "source": [
    "drugs_df.head()"
   ]
  },
  {
   "cell_type": "code",
   "execution_count": 47,
   "metadata": {
    "Collapsed": "false"
   },
   "outputs": [],
   "source": [
    "pk_param_list=['AUC', 'T1/2', 'Cmax', 'Vd', 'CL', 'Plasma protein binding', 'Bioavailability']\n",
    "\n",
    "field_list=['drug', 'parameter', 'sampleSize', 'sex', 'dose', 'duration', 'route', 'comments','valueNormalized', 'unitNormalized', 'valueOriginal']\n",
    "\n",
    "drugList=list(drugs_df.drug)\n",
    "\n",
    "drugList=drugList[:5]\n",
    "# drugList"
   ]
  },
  {
   "cell_type": "code",
   "execution_count": 48,
   "metadata": {
    "Collapsed": "false"
   },
   "outputs": [],
   "source": [
    "parameters=dict()\n",
    "\n",
    "parameters['apiKey']=api_key\n",
    "parameters['insttoken']=insttoken\n",
    "parameters[\"limitation.count\"] = 0\n",
    "# parameters[\"facets\"]=\"drugs\"\n",
    "parameters['species']='human'\n",
    "# parameters['leaf']=True\n",
    "url_pk=os.getenv('URL_PK_SEARCH')"
   ]
  },
  {
   "cell_type": "code",
   "execution_count": 49,
   "metadata": {
    "Collapsed": "false"
   },
   "outputs": [
    {
     "name": "stderr",
     "output_type": "stream",
     "text": [
      "100%|████████████████████████████████████████████████████████████████████████████████████| 5/5 [00:02<00:00,  2.28it/s]\n"
     ]
    }
   ],
   "source": [
    "# test counts vs. GUI\n",
    "hit_count_list=[]\n",
    "url=os.getenv('URL_PK_SEARCH')\n",
    "with requests.Session() as s:\n",
    "    for drug in tqdm.tqdm(drugList):\n",
    "        parameters[\"drugs\"] = drug\n",
    "        parameters['limitation.count']=0\n",
    "        #     parameters['sources']= 'FDA Approval Packages', 'EMA approval documents'\n",
    "        r = s.get(url, params=parameters, stream=False).json()\n",
    "        hits = r['data']['countTotal']\n",
    "        hit_count_list.append(int(hits))\n",
    "        "
   ]
  },
  {
   "cell_type": "code",
   "execution_count": 50,
   "metadata": {
    "Collapsed": "false"
   },
   "outputs": [
    {
     "data": {
      "text/plain": [
       "[0, 0, 1180, 178, 100]"
      ]
     },
     "execution_count": 50,
     "metadata": {},
     "output_type": "execute_result"
    }
   ],
   "source": [
    "hit_count_list"
   ]
  },
  {
   "cell_type": "code",
   "execution_count": 62,
   "metadata": {
    "Collapsed": "false"
   },
   "outputs": [],
   "source": [
    "pk_param_list=['AUC', 'T1/2', 'Cmax']\n",
    "field_list=['drug', 'parameter', 'sampleSize', 'sex', 'dose']\n"
   ]
  },
  {
   "cell_type": "code",
   "execution_count": 63,
   "metadata": {
    "Collapsed": "false"
   },
   "outputs": [],
   "source": [
    "parameters=dict()\n",
    "\n",
    "parameters['apiKey']=api_key\n",
    "parameters['insttoken']=insttoken\n",
    "parameters['species']='human'\n",
    "url_pk=os.getenv('URL_PK_SEARCH')"
   ]
  },
  {
   "cell_type": "code",
   "execution_count": 64,
   "metadata": {
    "Collapsed": "false"
   },
   "outputs": [
    {
     "name": "stderr",
     "output_type": "stream",
     "text": [
      "\n",
      "\n",
      "\n",
      "  0%|                                                                                            | 0/5 [00:00<?, ?it/s]\n",
      "\n",
      "\n",
      " 20%|████████████████▊                                                                   | 1/5 [00:00<00:02,  1.51it/s]\n",
      "\n",
      "\n",
      " 40%|█████████████████████████████████▌                                                  | 2/5 [00:01<00:01,  1.75it/s]\n",
      "\n",
      "\n",
      " 60%|██████████████████████████████████████████████████▍                                 | 3/5 [00:10<00:06,  3.18s/it]\n",
      "\n",
      "\n",
      " 80%|███████████████████████████████████████████████████████████████████▏                | 4/5 [00:11<00:02,  2.54s/it]\n",
      "\n",
      "\n",
      "100%|████████████████████████████████████████████████████████████████████████████████████| 5/5 [00:12<00:00,  2.48s/it]\n"
     ]
    }
   ],
   "source": [
    "df=get_PK_data(url_pk, drugList, field_list,  pk_param_list,  parameters)"
   ]
  },
  {
   "cell_type": "code",
   "execution_count": 65,
   "metadata": {
    "Collapsed": "false"
   },
   "outputs": [
    {
     "name": "stdout",
     "output_type": "stream",
     "text": [
      "<class 'pandas.core.frame.DataFrame'>\n",
      "RangeIndex: 776 entries, 0 to 775\n",
      "Data columns (total 5 columns):\n",
      "drug          776 non-null object\n",
      "parameter     776 non-null object\n",
      "sampleSize    615 non-null float64\n",
      "sex           8 non-null object\n",
      "dose          776 non-null object\n",
      "dtypes: float64(1), object(4)\n",
      "memory usage: 30.4+ KB\n"
     ]
    },
    {
     "data": {
      "text/html": [
       "<div>\n",
       "<style scoped>\n",
       "    .dataframe tbody tr th:only-of-type {\n",
       "        vertical-align: middle;\n",
       "    }\n",
       "\n",
       "    .dataframe tbody tr th {\n",
       "        vertical-align: top;\n",
       "    }\n",
       "\n",
       "    .dataframe thead th {\n",
       "        text-align: right;\n",
       "    }\n",
       "</style>\n",
       "<table border=\"1\" class=\"dataframe\">\n",
       "  <thead>\n",
       "    <tr style=\"text-align: right;\">\n",
       "      <th></th>\n",
       "      <th>drug</th>\n",
       "      <th>parameter</th>\n",
       "      <th>sampleSize</th>\n",
       "      <th>sex</th>\n",
       "      <th>dose</th>\n",
       "    </tr>\n",
       "  </thead>\n",
       "  <tbody>\n",
       "    <tr>\n",
       "      <th>0</th>\n",
       "      <td>Abacavir Sulfate</td>\n",
       "      <td>Cmax</td>\n",
       "      <td>12.0</td>\n",
       "      <td>None</td>\n",
       "      <td>600 mg</td>\n",
       "    </tr>\n",
       "    <tr>\n",
       "      <th>1</th>\n",
       "      <td>Abacavir Sulfate</td>\n",
       "      <td>AUC</td>\n",
       "      <td>12.0</td>\n",
       "      <td>None</td>\n",
       "      <td>150 mg</td>\n",
       "    </tr>\n",
       "    <tr>\n",
       "      <th>2</th>\n",
       "      <td>Abacavir Sulfate</td>\n",
       "      <td>Cmax</td>\n",
       "      <td>18.0</td>\n",
       "      <td>None</td>\n",
       "      <td>16 mg/kg</td>\n",
       "    </tr>\n",
       "    <tr>\n",
       "      <th>3</th>\n",
       "      <td>Abacavir Sulfate</td>\n",
       "      <td>Cmax</td>\n",
       "      <td>15.0</td>\n",
       "      <td>None</td>\n",
       "      <td>300-600 mg</td>\n",
       "    </tr>\n",
       "    <tr>\n",
       "      <th>4</th>\n",
       "      <td>Abacavir Sulfate</td>\n",
       "      <td>Cmax</td>\n",
       "      <td>2.0</td>\n",
       "      <td>None</td>\n",
       "      <td>300 mg</td>\n",
       "    </tr>\n",
       "    <tr>\n",
       "      <th>...</th>\n",
       "      <td>...</td>\n",
       "      <td>...</td>\n",
       "      <td>...</td>\n",
       "      <td>...</td>\n",
       "      <td>...</td>\n",
       "    </tr>\n",
       "    <tr>\n",
       "      <th>771</th>\n",
       "      <td>Abacavir Sulfate; Lamivudine</td>\n",
       "      <td>Cmax</td>\n",
       "      <td>25.0</td>\n",
       "      <td>None</td>\n",
       "      <td>600/300 mg</td>\n",
       "    </tr>\n",
       "    <tr>\n",
       "      <th>772</th>\n",
       "      <td>Abacavir Sulfate; Lamivudine</td>\n",
       "      <td>Cmax</td>\n",
       "      <td>25.0</td>\n",
       "      <td>None</td>\n",
       "      <td>600 mg/300 mg</td>\n",
       "    </tr>\n",
       "    <tr>\n",
       "      <th>773</th>\n",
       "      <td>Abacavir Sulfate; Lamivudine</td>\n",
       "      <td>T1/2</td>\n",
       "      <td>25.0</td>\n",
       "      <td>None</td>\n",
       "      <td>600/300 mg</td>\n",
       "    </tr>\n",
       "    <tr>\n",
       "      <th>774</th>\n",
       "      <td>Abacavir Sulfate; Lamivudine</td>\n",
       "      <td>AUC</td>\n",
       "      <td>25.0</td>\n",
       "      <td>None</td>\n",
       "      <td>600/300 mg</td>\n",
       "    </tr>\n",
       "    <tr>\n",
       "      <th>775</th>\n",
       "      <td>Abacavir Sulfate; Lamivudine</td>\n",
       "      <td>AUC</td>\n",
       "      <td>25.0</td>\n",
       "      <td>None</td>\n",
       "      <td>600/300 mg</td>\n",
       "    </tr>\n",
       "  </tbody>\n",
       "</table>\n",
       "<p>776 rows × 5 columns</p>\n",
       "</div>"
      ],
      "text/plain": [
       "                             drug parameter  sampleSize   sex           dose\n",
       "0                Abacavir Sulfate      Cmax        12.0  None         600 mg\n",
       "1                Abacavir Sulfate       AUC        12.0  None         150 mg\n",
       "2                Abacavir Sulfate      Cmax        18.0  None       16 mg/kg\n",
       "3                Abacavir Sulfate      Cmax        15.0  None     300-600 mg\n",
       "4                Abacavir Sulfate      Cmax         2.0  None         300 mg\n",
       "..                            ...       ...         ...   ...            ...\n",
       "771  Abacavir Sulfate; Lamivudine      Cmax        25.0  None     600/300 mg\n",
       "772  Abacavir Sulfate; Lamivudine      Cmax        25.0  None  600 mg/300 mg\n",
       "773  Abacavir Sulfate; Lamivudine      T1/2        25.0  None     600/300 mg\n",
       "774  Abacavir Sulfate; Lamivudine       AUC        25.0  None     600/300 mg\n",
       "775  Abacavir Sulfate; Lamivudine       AUC        25.0  None     600/300 mg\n",
       "\n",
       "[776 rows x 5 columns]"
      ]
     },
     "execution_count": 65,
     "metadata": {},
     "output_type": "execute_result"
    }
   ],
   "source": [
    "df.info(); df"
   ]
  },
  {
   "cell_type": "code",
   "execution_count": 27,
   "metadata": {
    "Collapsed": "false"
   },
   "outputs": [],
   "source": [
    "df.to_csv(f'{PATH}/data/raw/pp_pk_drugs.csv', index=False)"
   ]
  },
  {
   "cell_type": "markdown",
   "metadata": {
    "Collapsed": "false",
    "toc-hr-collapsed": true,
    "toc-nb-collapsed": true
   },
   "source": [
    "### Pharmapendium FAERS Query"
   ]
  },
  {
   "cell_type": "markdown",
   "metadata": {
    "Collapsed": "false"
   },
   "source": [
    "#### Query for all data fields"
   ]
  },
  {
   "cell_type": "code",
   "execution_count": 10,
   "metadata": {
    "Collapsed": "false"
   },
   "outputs": [],
   "source": [
    "parameters=dict()\n",
    "parameters['apiKey']=api_key\n",
    "parameters['insttoken']=insttoken\n",
    "url_faers_fields=os.getenv('URL_FAERS_FIELDS')"
   ]
  },
  {
   "cell_type": "code",
   "execution_count": 12,
   "metadata": {
    "Collapsed": "false"
   },
   "outputs": [],
   "source": [
    "df_fields=get_data_fields(url_faers_fields, parameters)"
   ]
  },
  {
   "cell_type": "code",
   "execution_count": 13,
   "metadata": {
    "Collapsed": "false"
   },
   "outputs": [
    {
     "data": {
      "text/html": [
       "<div>\n",
       "<style scoped>\n",
       "    .dataframe tbody tr th:only-of-type {\n",
       "        vertical-align: middle;\n",
       "    }\n",
       "\n",
       "    .dataframe tbody tr th {\n",
       "        vertical-align: top;\n",
       "    }\n",
       "\n",
       "    .dataframe thead th {\n",
       "        text-align: right;\n",
       "    }\n",
       "</style>\n",
       "<table border=\"1\" class=\"dataframe\">\n",
       "  <thead>\n",
       "    <tr style=\"text-align: right;\">\n",
       "      <th></th>\n",
       "      <th></th>\n",
       "    </tr>\n",
       "  </thead>\n",
       "  <tbody>\n",
       "    <tr>\n",
       "      <th>0</th>\n",
       "      <td>sendDate</td>\n",
       "    </tr>\n",
       "    <tr>\n",
       "      <th>1</th>\n",
       "      <td>manufacturerName</td>\n",
       "    </tr>\n",
       "    <tr>\n",
       "      <th>2</th>\n",
       "      <td>reportedIndications</td>\n",
       "    </tr>\n",
       "    <tr>\n",
       "      <th>3</th>\n",
       "      <td>primarySuspectDrugs</td>\n",
       "    </tr>\n",
       "    <tr>\n",
       "      <th>4</th>\n",
       "      <td>reportType</td>\n",
       "    </tr>\n",
       "    <tr>\n",
       "      <th>5</th>\n",
       "      <td>weightNormalized</td>\n",
       "    </tr>\n",
       "    <tr>\n",
       "      <th>6</th>\n",
       "      <td>ageUnit</td>\n",
       "    </tr>\n",
       "    <tr>\n",
       "      <th>7</th>\n",
       "      <td>outcomes</td>\n",
       "    </tr>\n",
       "    <tr>\n",
       "      <th>8</th>\n",
       "      <td>manufacturerNumber</td>\n",
       "    </tr>\n",
       "    <tr>\n",
       "      <th>9</th>\n",
       "      <td>reporterOccupation</td>\n",
       "    </tr>\n",
       "    <tr>\n",
       "      <th>10</th>\n",
       "      <td>deathDate</td>\n",
       "    </tr>\n",
       "    <tr>\n",
       "      <th>11</th>\n",
       "      <td>displayAge</td>\n",
       "    </tr>\n",
       "    <tr>\n",
       "      <th>12</th>\n",
       "      <td>image</td>\n",
       "    </tr>\n",
       "    <tr>\n",
       "      <th>13</th>\n",
       "      <td>FDADate</td>\n",
       "    </tr>\n",
       "    <tr>\n",
       "      <th>14</th>\n",
       "      <td>secondarySuspectDrugs</td>\n",
       "    </tr>\n",
       "    <tr>\n",
       "      <th>15</th>\n",
       "      <td>otherAdministeredDrugs</td>\n",
       "    </tr>\n",
       "    <tr>\n",
       "      <th>16</th>\n",
       "      <td>concomitantDrugs</td>\n",
       "    </tr>\n",
       "    <tr>\n",
       "      <th>17</th>\n",
       "      <td>sex</td>\n",
       "    </tr>\n",
       "    <tr>\n",
       "      <th>18</th>\n",
       "      <td>manufacturerDate</td>\n",
       "    </tr>\n",
       "    <tr>\n",
       "      <th>19</th>\n",
       "      <td>weight</td>\n",
       "    </tr>\n",
       "    <tr>\n",
       "      <th>20</th>\n",
       "      <td>weightUnitNormalized</td>\n",
       "    </tr>\n",
       "    <tr>\n",
       "      <th>21</th>\n",
       "      <td>dose</td>\n",
       "    </tr>\n",
       "    <tr>\n",
       "      <th>22</th>\n",
       "      <td>route</td>\n",
       "    </tr>\n",
       "    <tr>\n",
       "      <th>23</th>\n",
       "      <td>ageYears</td>\n",
       "    </tr>\n",
       "    <tr>\n",
       "      <th>24</th>\n",
       "      <td>effectsRelated</td>\n",
       "    </tr>\n",
       "    <tr>\n",
       "      <th>25</th>\n",
       "      <td>caseID</td>\n",
       "    </tr>\n",
       "    <tr>\n",
       "      <th>26</th>\n",
       "      <td>displayWeight</td>\n",
       "    </tr>\n",
       "    <tr>\n",
       "      <th>27</th>\n",
       "      <td>location</td>\n",
       "    </tr>\n",
       "    <tr>\n",
       "      <th>28</th>\n",
       "      <td>age</td>\n",
       "    </tr>\n",
       "    <tr>\n",
       "      <th>29</th>\n",
       "      <td>interactingDrugs</td>\n",
       "    </tr>\n",
       "    <tr>\n",
       "      <th>30</th>\n",
       "      <td>eventDate</td>\n",
       "    </tr>\n",
       "    <tr>\n",
       "      <th>31</th>\n",
       "      <td>weightUnit</td>\n",
       "    </tr>\n",
       "  </tbody>\n",
       "</table>\n",
       "</div>"
      ],
      "text/plain": [
       "                          \n",
       "0                 sendDate\n",
       "1         manufacturerName\n",
       "2      reportedIndications\n",
       "3      primarySuspectDrugs\n",
       "4               reportType\n",
       "5         weightNormalized\n",
       "6                  ageUnit\n",
       "7                 outcomes\n",
       "8       manufacturerNumber\n",
       "9       reporterOccupation\n",
       "10               deathDate\n",
       "11              displayAge\n",
       "12                   image\n",
       "13                 FDADate\n",
       "14   secondarySuspectDrugs\n",
       "15  otherAdministeredDrugs\n",
       "16        concomitantDrugs\n",
       "17                     sex\n",
       "18        manufacturerDate\n",
       "19                  weight\n",
       "20    weightUnitNormalized\n",
       "21                    dose\n",
       "22                   route\n",
       "23                ageYears\n",
       "24          effectsRelated\n",
       "25                  caseID\n",
       "26           displayWeight\n",
       "27                location\n",
       "28                     age\n",
       "29        interactingDrugs\n",
       "30               eventDate\n",
       "31              weightUnit"
      ]
     },
     "execution_count": 13,
     "metadata": {},
     "output_type": "execute_result"
    }
   ],
   "source": [
    "df_fields"
   ]
  },
  {
   "cell_type": "markdown",
   "metadata": {
    "Collapsed": "true",
    "toc-hr-collapsed": true,
    "toc-nb-collapsed": true
   },
   "source": [
    "### Query for Available Facets Fields"
   ]
  },
  {
   "cell_type": "code",
   "execution_count": 14,
   "metadata": {
    "Collapsed": "false"
   },
   "outputs": [],
   "source": [
    "parameters=dict()\n",
    "parameters['apiKey']=api_key\n",
    "parameters['insttoken']=insttoken\n",
    "url_faers_facets=os.getenv('URL_FAERS_listFacets')"
   ]
  },
  {
   "cell_type": "code",
   "execution_count": 15,
   "metadata": {
    "Collapsed": "false"
   },
   "outputs": [],
   "source": [
    "df_facets=get_facet_fields(url_faers_facets, parameters)"
   ]
  },
  {
   "cell_type": "code",
   "execution_count": 16,
   "metadata": {
    "Collapsed": "false",
    "scrolled": true
   },
   "outputs": [
    {
     "data": {
      "text/html": [
       "<div>\n",
       "<style scoped>\n",
       "    .dataframe tbody tr th:only-of-type {\n",
       "        vertical-align: middle;\n",
       "    }\n",
       "\n",
       "    .dataframe tbody tr th {\n",
       "        vertical-align: top;\n",
       "    }\n",
       "\n",
       "    .dataframe thead th {\n",
       "        text-align: right;\n",
       "    }\n",
       "</style>\n",
       "<table border=\"1\" class=\"dataframe\">\n",
       "  <thead>\n",
       "    <tr style=\"text-align: right;\">\n",
       "      <th></th>\n",
       "      <th>facet_fields</th>\n",
       "    </tr>\n",
       "  </thead>\n",
       "  <tbody>\n",
       "    <tr>\n",
       "      <th>0</th>\n",
       "      <td>drugs</td>\n",
       "    </tr>\n",
       "    <tr>\n",
       "      <th>1</th>\n",
       "      <td>secondarySuspectDrugsAndClasses</td>\n",
       "    </tr>\n",
       "    <tr>\n",
       "      <th>2</th>\n",
       "      <td>concomitantDrugsAndClasses</td>\n",
       "    </tr>\n",
       "    <tr>\n",
       "      <th>3</th>\n",
       "      <td>interactingDrugsAndClasses</td>\n",
       "    </tr>\n",
       "    <tr>\n",
       "      <th>4</th>\n",
       "      <td>effects</td>\n",
       "    </tr>\n",
       "    <tr>\n",
       "      <th>5</th>\n",
       "      <td>sources</td>\n",
       "    </tr>\n",
       "    <tr>\n",
       "      <th>6</th>\n",
       "      <td>secondarySuspectDrugs</td>\n",
       "    </tr>\n",
       "    <tr>\n",
       "      <th>7</th>\n",
       "      <td>concomitantDrugs</td>\n",
       "    </tr>\n",
       "    <tr>\n",
       "      <th>8</th>\n",
       "      <td>interactingDrugs</td>\n",
       "    </tr>\n",
       "    <tr>\n",
       "      <th>9</th>\n",
       "      <td>sex</td>\n",
       "    </tr>\n",
       "    <tr>\n",
       "      <th>10</th>\n",
       "      <td>isSerious</td>\n",
       "    </tr>\n",
       "    <tr>\n",
       "      <th>11</th>\n",
       "      <td>reporterOccupation</td>\n",
       "    </tr>\n",
       "    <tr>\n",
       "      <th>12</th>\n",
       "      <td>route</td>\n",
       "    </tr>\n",
       "    <tr>\n",
       "      <th>13</th>\n",
       "      <td>outcomes</td>\n",
       "    </tr>\n",
       "    <tr>\n",
       "      <th>14</th>\n",
       "      <td>manufacturerName</td>\n",
       "    </tr>\n",
       "  </tbody>\n",
       "</table>\n",
       "</div>"
      ],
      "text/plain": [
       "                       facet_fields\n",
       "0                             drugs\n",
       "1   secondarySuspectDrugsAndClasses\n",
       "2        concomitantDrugsAndClasses\n",
       "3        interactingDrugsAndClasses\n",
       "4                           effects\n",
       "5                           sources\n",
       "6             secondarySuspectDrugs\n",
       "7                  concomitantDrugs\n",
       "8                  interactingDrugs\n",
       "9                               sex\n",
       "10                        isSerious\n",
       "11               reporterOccupation\n",
       "12                            route\n",
       "13                         outcomes\n",
       "14                 manufacturerName"
      ]
     },
     "execution_count": 16,
     "metadata": {},
     "output_type": "execute_result"
    }
   ],
   "source": [
    "df_facets"
   ]
  },
  {
   "cell_type": "markdown",
   "metadata": {
    "Collapsed": "false",
    "toc-hr-collapsed": true,
    "toc-nb-collapsed": true
   },
   "source": [
    "#### Query for All Drugs in FAERS"
   ]
  },
  {
   "cell_type": "code",
   "execution_count": 33,
   "metadata": {
    "Collapsed": "false"
   },
   "outputs": [],
   "source": [
    "parameters=dict()\n",
    "\n",
    "parameters['apiKey']=api_key\n",
    "parameters['insttoken']=insttoken\n",
    "parameters['limitation.count'] = 0\n",
    "parameters['facets']=\"drugs\"\n",
    "parameters['leaf']=True\n",
    "\n",
    "\n",
    "url_faers=os.getenv('URL_FAERS')"
   ]
  },
  {
   "cell_type": "code",
   "execution_count": 34,
   "metadata": {
    "Collapsed": "false"
   },
   "outputs": [
    {
     "data": {
      "text/plain": [
       "200"
      ]
     },
     "execution_count": 34,
     "metadata": {},
     "output_type": "execute_result"
    }
   ],
   "source": [
    "with requests.Session() as s:\n",
    "    r = s.get(url_faers, params=parameters)\n",
    "r.status_code "
   ]
  },
  {
   "cell_type": "code",
   "execution_count": 35,
   "metadata": {
    "Collapsed": "false"
   },
   "outputs": [],
   "source": [
    "drugs_df=get_drugs(url_faers, parameters)"
   ]
  },
  {
   "cell_type": "code",
   "execution_count": 36,
   "metadata": {
    "Collapsed": "false"
   },
   "outputs": [
    {
     "name": "stdout",
     "output_type": "stream",
     "text": [
      "<class 'pandas.core.frame.DataFrame'>\n",
      "RangeIndex: 2954 entries, 0 to 2953\n",
      "Data columns (total 1 columns):\n",
      "drug    2954 non-null object\n",
      "dtypes: object(1)\n",
      "memory usage: 23.2+ KB\n"
     ]
    },
    {
     "data": {
      "text/html": [
       "<div>\n",
       "<style scoped>\n",
       "    .dataframe tbody tr th:only-of-type {\n",
       "        vertical-align: middle;\n",
       "    }\n",
       "\n",
       "    .dataframe tbody tr th {\n",
       "        vertical-align: top;\n",
       "    }\n",
       "\n",
       "    .dataframe thead th {\n",
       "        text-align: right;\n",
       "    }\n",
       "</style>\n",
       "<table border=\"1\" class=\"dataframe\">\n",
       "  <thead>\n",
       "    <tr style=\"text-align: right;\">\n",
       "      <th></th>\n",
       "      <th>drug</th>\n",
       "    </tr>\n",
       "  </thead>\n",
       "  <tbody>\n",
       "    <tr>\n",
       "      <th>0</th>\n",
       "      <td>Abacavir Sulfate</td>\n",
       "    </tr>\n",
       "    <tr>\n",
       "      <th>1</th>\n",
       "      <td>Abacavir Sulfate; Dolutegravir Sodium; Lamivudine</td>\n",
       "    </tr>\n",
       "    <tr>\n",
       "      <th>2</th>\n",
       "      <td>Abacavir Sulfate; Lamivudine</td>\n",
       "    </tr>\n",
       "    <tr>\n",
       "      <th>3</th>\n",
       "      <td>Abacavir Sulfate; Lamivudine; Zidovudine</td>\n",
       "    </tr>\n",
       "    <tr>\n",
       "      <th>4</th>\n",
       "      <td>Abaloparatide</td>\n",
       "    </tr>\n",
       "  </tbody>\n",
       "</table>\n",
       "</div>"
      ],
      "text/plain": [
       "                                                drug\n",
       "0                                   Abacavir Sulfate\n",
       "1  Abacavir Sulfate; Dolutegravir Sodium; Lamivudine\n",
       "2                       Abacavir Sulfate; Lamivudine\n",
       "3           Abacavir Sulfate; Lamivudine; Zidovudine\n",
       "4                                      Abaloparatide"
      ]
     },
     "execution_count": 36,
     "metadata": {},
     "output_type": "execute_result"
    }
   ],
   "source": [
    "drugs_df.info(); drugs_df.head()"
   ]
  },
  {
   "cell_type": "code",
   "execution_count": 23,
   "metadata": {
    "Collapsed": "false"
   },
   "outputs": [],
   "source": [
    "drugs_df.to_pickle(f'{PATH}/data/raw/faers_drugs.pkl')"
   ]
  },
  {
   "cell_type": "markdown",
   "metadata": {
    "Collapsed": "false"
   },
   "source": [
    "##### Query for Specific Drug"
   ]
  },
  {
   "cell_type": "code",
   "execution_count": 37,
   "metadata": {
    "Collapsed": "false"
   },
   "outputs": [],
   "source": [
    "drugs_df['drug']=drugs_df['drug'].apply(lambda x: str.lower(x))"
   ]
  },
  {
   "cell_type": "code",
   "execution_count": 38,
   "metadata": {
    "Collapsed": "false"
   },
   "outputs": [
    {
     "data": {
      "text/html": [
       "<div>\n",
       "<style scoped>\n",
       "    .dataframe tbody tr th:only-of-type {\n",
       "        vertical-align: middle;\n",
       "    }\n",
       "\n",
       "    .dataframe tbody tr th {\n",
       "        vertical-align: top;\n",
       "    }\n",
       "\n",
       "    .dataframe thead th {\n",
       "        text-align: right;\n",
       "    }\n",
       "</style>\n",
       "<table border=\"1\" class=\"dataframe\">\n",
       "  <thead>\n",
       "    <tr style=\"text-align: right;\">\n",
       "      <th></th>\n",
       "      <th>drug</th>\n",
       "    </tr>\n",
       "  </thead>\n",
       "  <tbody>\n",
       "    <tr>\n",
       "      <th>0</th>\n",
       "      <td>abacavir sulfate</td>\n",
       "    </tr>\n",
       "    <tr>\n",
       "      <th>1</th>\n",
       "      <td>abacavir sulfate; dolutegravir sodium; lamivudine</td>\n",
       "    </tr>\n",
       "    <tr>\n",
       "      <th>2</th>\n",
       "      <td>abacavir sulfate; lamivudine</td>\n",
       "    </tr>\n",
       "    <tr>\n",
       "      <th>3</th>\n",
       "      <td>abacavir sulfate; lamivudine; zidovudine</td>\n",
       "    </tr>\n",
       "    <tr>\n",
       "      <th>4</th>\n",
       "      <td>abaloparatide</td>\n",
       "    </tr>\n",
       "  </tbody>\n",
       "</table>\n",
       "</div>"
      ],
      "text/plain": [
       "                                                drug\n",
       "0                                   abacavir sulfate\n",
       "1  abacavir sulfate; dolutegravir sodium; lamivudine\n",
       "2                       abacavir sulfate; lamivudine\n",
       "3           abacavir sulfate; lamivudine; zidovudine\n",
       "4                                      abaloparatide"
      ]
     },
     "execution_count": 38,
     "metadata": {},
     "output_type": "execute_result"
    }
   ],
   "source": [
    "drugs_df.head()"
   ]
  },
  {
   "cell_type": "code",
   "execution_count": 28,
   "metadata": {
    "Collapsed": "false"
   },
   "outputs": [
    {
     "data": {
      "text/html": [
       "<div>\n",
       "<style scoped>\n",
       "    .dataframe tbody tr th:only-of-type {\n",
       "        vertical-align: middle;\n",
       "    }\n",
       "\n",
       "    .dataframe tbody tr th {\n",
       "        vertical-align: top;\n",
       "    }\n",
       "\n",
       "    .dataframe thead th {\n",
       "        text-align: right;\n",
       "    }\n",
       "</style>\n",
       "<table border=\"1\" class=\"dataframe\">\n",
       "  <thead>\n",
       "    <tr style=\"text-align: right;\">\n",
       "      <th></th>\n",
       "      <th>drug</th>\n",
       "    </tr>\n",
       "  </thead>\n",
       "  <tbody>\n",
       "    <tr>\n",
       "      <th>106</th>\n",
       "      <td>alpha-tocopherol acetate; ascorbic acid; bioti...</td>\n",
       "    </tr>\n",
       "    <tr>\n",
       "      <th>241</th>\n",
       "      <td>ascorbic acid; biotin; cholecalciferol; cyanoc...</td>\n",
       "    </tr>\n",
       "    <tr>\n",
       "      <th>242</th>\n",
       "      <td>ascorbic acid; biotin; cyanocobalamin; dexpant...</td>\n",
       "    </tr>\n",
       "    <tr>\n",
       "      <th>243</th>\n",
       "      <td>ascorbic acid; biotin; cyanocobalamin; dexpant...</td>\n",
       "    </tr>\n",
       "    <tr>\n",
       "      <th>244</th>\n",
       "      <td>ascorbic acid; biotin; cyanocobalamin; dexpant...</td>\n",
       "    </tr>\n",
       "    <tr>\n",
       "      <th>245</th>\n",
       "      <td>ascorbic acid; biotin; cyanocobalamin; dexpant...</td>\n",
       "    </tr>\n",
       "    <tr>\n",
       "      <th>246</th>\n",
       "      <td>ascorbic acid; biotin; cyanocobalamin; dexpant...</td>\n",
       "    </tr>\n",
       "    <tr>\n",
       "      <th>247</th>\n",
       "      <td>ascorbic acid; cyanocobalamin; biotin; folic a...</td>\n",
       "    </tr>\n",
       "    <tr>\n",
       "      <th>636</th>\n",
       "      <td>chloramphenicol; desoxyribonuclease; fibrinolysin</td>\n",
       "    </tr>\n",
       "    <tr>\n",
       "      <th>2436</th>\n",
       "      <td>ribociclib succinate</td>\n",
       "    </tr>\n",
       "    <tr>\n",
       "      <th>2437</th>\n",
       "      <td>riboflavin</td>\n",
       "    </tr>\n",
       "    <tr>\n",
       "      <th>2438</th>\n",
       "      <td>riboflavin 5 - phosphate; dextran</td>\n",
       "    </tr>\n",
       "  </tbody>\n",
       "</table>\n",
       "</div>"
      ],
      "text/plain": [
       "                                                   drug\n",
       "106   alpha-tocopherol acetate; ascorbic acid; bioti...\n",
       "241   ascorbic acid; biotin; cholecalciferol; cyanoc...\n",
       "242   ascorbic acid; biotin; cyanocobalamin; dexpant...\n",
       "243   ascorbic acid; biotin; cyanocobalamin; dexpant...\n",
       "244   ascorbic acid; biotin; cyanocobalamin; dexpant...\n",
       "245   ascorbic acid; biotin; cyanocobalamin; dexpant...\n",
       "246   ascorbic acid; biotin; cyanocobalamin; dexpant...\n",
       "247   ascorbic acid; cyanocobalamin; biotin; folic a...\n",
       "636   chloramphenicol; desoxyribonuclease; fibrinolysin\n",
       "2436                               ribociclib succinate\n",
       "2437                                         riboflavin\n",
       "2438                  riboflavin 5 - phosphate; dextran"
      ]
     },
     "execution_count": 28,
     "metadata": {},
     "output_type": "execute_result"
    }
   ],
   "source": [
    "drugs_df[drugs_df['drug'].str.contains('ribo', regex=True)]"
   ]
  },
  {
   "cell_type": "markdown",
   "metadata": {
    "Collapsed": "false",
    "toc-hr-collapsed": true,
    "toc-nb-collapsed": true
   },
   "source": [
    "#### Query for Post-marketing Drug AEs"
   ]
  },
  {
   "cell_type": "code",
   "execution_count": 9,
   "metadata": {
    "Collapsed": "false"
   },
   "outputs": [],
   "source": [
    "drugs_df=pd.read_pickle(f'{PATH}/data/raw/faers_drugs.pkl')"
   ]
  },
  {
   "cell_type": "code",
   "execution_count": 10,
   "metadata": {
    "Collapsed": "false"
   },
   "outputs": [
    {
     "data": {
      "text/plain": [
       "2940"
      ]
     },
     "execution_count": 10,
     "metadata": {},
     "output_type": "execute_result"
    },
    {
     "data": {
      "text/plain": [
       "['Abacavir Sulfate',\n",
       " 'Abacavir Sulfate; Dolutegravir Sodium; Lamivudine',\n",
       " 'Abacavir Sulfate; Lamivudine',\n",
       " 'Abacavir Sulfate; Lamivudine; Zidovudine',\n",
       " 'Abaloparatide']"
      ]
     },
     "execution_count": 10,
     "metadata": {},
     "output_type": "execute_result"
    }
   ],
   "source": [
    "drug_list=list(drugs_df.drug)\n",
    "len(drug_list)\n",
    "drug_list[:5]"
   ]
  },
  {
   "cell_type": "code",
   "execution_count": 11,
   "metadata": {
    "Collapsed": "false"
   },
   "outputs": [
    {
     "data": {
      "text/plain": [
       "['Omadacycline Tosylate', 'Sodium Propionate']"
      ]
     },
     "execution_count": 11,
     "metadata": {},
     "output_type": "execute_result"
    }
   ],
   "source": [
    "drug_sample=sample(drug_list, 2)\n",
    "drug_sample"
   ]
  },
  {
   "cell_type": "code",
   "execution_count": 39,
   "metadata": {
    "Collapsed": "false"
   },
   "outputs": [],
   "source": [
    "drug_sample=['Ribociclib Succinate']"
   ]
  },
  {
   "cell_type": "code",
   "execution_count": 52,
   "metadata": {
    "Collapsed": "false"
   },
   "outputs": [],
   "source": [
    "parameters=dict()\n",
    "parameters['apiKey']=api_key\n",
    "parameters['insttoken']=insttoken\n",
    "parameters['limitation.count'] = 0  \n",
    "parameters['facets']=\"effects\"\n",
    "parameters['leaf']=True\n",
    "# parameters['leaf']=False\n",
    "\n",
    "\n",
    "url_faers=os.getenv('URL_FAERS')"
   ]
  },
  {
   "cell_type": "code",
   "execution_count": 53,
   "metadata": {
    "Collapsed": "false"
   },
   "outputs": [
    {
     "name": "stderr",
     "output_type": "stream",
     "text": [
      "  0%|                                                                                            | 0/1 [00:00<?, ?it/s]"
     ]
    },
    {
     "name": "stdout",
     "output_type": "stream",
     "text": [
      "1977\n"
     ]
    },
    {
     "name": "stderr",
     "output_type": "stream",
     "text": [
      "100%|████████████████████████████████████████████████████████████████████████████████████| 1/1 [00:00<00:00,  1.29it/s]\n"
     ]
    }
   ],
   "source": [
    "df_aes_faers=get_drug_aes_faers(url_faers, drug_sample, parameters)"
   ]
  },
  {
   "cell_type": "code",
   "execution_count": 54,
   "metadata": {
    "Collapsed": "false"
   },
   "outputs": [
    {
     "name": "stdout",
     "output_type": "stream",
     "text": [
      "<class 'pandas.core.frame.DataFrame'>\n",
      "RangeIndex: 1977 entries, 0 to 1976\n",
      "Data columns (total 3 columns):\n",
      "drug     1977 non-null object\n",
      "ae       1977 non-null object\n",
      "count    1977 non-null int64\n",
      "dtypes: int64(1), object(2)\n",
      "memory usage: 46.5+ KB\n"
     ]
    },
    {
     "data": {
      "text/html": [
       "<div>\n",
       "<style scoped>\n",
       "    .dataframe tbody tr th:only-of-type {\n",
       "        vertical-align: middle;\n",
       "    }\n",
       "\n",
       "    .dataframe tbody tr th {\n",
       "        vertical-align: top;\n",
       "    }\n",
       "\n",
       "    .dataframe thead th {\n",
       "        text-align: right;\n",
       "    }\n",
       "</style>\n",
       "<table border=\"1\" class=\"dataframe\">\n",
       "  <thead>\n",
       "    <tr style=\"text-align: right;\">\n",
       "      <th></th>\n",
       "      <th>drug</th>\n",
       "      <th>ae</th>\n",
       "      <th>count</th>\n",
       "    </tr>\n",
       "  </thead>\n",
       "  <tbody>\n",
       "    <tr>\n",
       "      <th>0</th>\n",
       "      <td>Ribociclib Succinate</td>\n",
       "      <td>Abdominal discomfort</td>\n",
       "      <td>101</td>\n",
       "    </tr>\n",
       "    <tr>\n",
       "      <th>1</th>\n",
       "      <td>Ribociclib Succinate</td>\n",
       "      <td>Abdominal distension</td>\n",
       "      <td>67</td>\n",
       "    </tr>\n",
       "    <tr>\n",
       "      <th>2</th>\n",
       "      <td>Ribociclib Succinate</td>\n",
       "      <td>Abdominal hernia</td>\n",
       "      <td>1</td>\n",
       "    </tr>\n",
       "    <tr>\n",
       "      <th>3</th>\n",
       "      <td>Ribociclib Succinate</td>\n",
       "      <td>Abdominal hernia infection</td>\n",
       "      <td>1</td>\n",
       "    </tr>\n",
       "    <tr>\n",
       "      <th>4</th>\n",
       "      <td>Ribociclib Succinate</td>\n",
       "      <td>Abdominal injury</td>\n",
       "      <td>1</td>\n",
       "    </tr>\n",
       "  </tbody>\n",
       "</table>\n",
       "</div>"
      ],
      "text/plain": [
       "                   drug                          ae  count\n",
       "0  Ribociclib Succinate        Abdominal discomfort    101\n",
       "1  Ribociclib Succinate        Abdominal distension     67\n",
       "2  Ribociclib Succinate            Abdominal hernia      1\n",
       "3  Ribociclib Succinate  Abdominal hernia infection      1\n",
       "4  Ribociclib Succinate            Abdominal injury      1"
      ]
     },
     "execution_count": 54,
     "metadata": {},
     "output_type": "execute_result"
    }
   ],
   "source": [
    "df_aes_faers.info(); df_aes_faers.head()"
   ]
  },
  {
   "cell_type": "code",
   "execution_count": 17,
   "metadata": {
    "Collapsed": "false"
   },
   "outputs": [
    {
     "data": {
      "text/plain": [
       "Toxic epidermal necrolysis                1\n",
       "Multiple organ dysfunction syndrome       1\n",
       "Blood creatine phosphokinase increased    1\n",
       "Neutropenia                               1\n",
       "Pemphigoid                                1\n",
       "Mouth haemorrhage                         1\n",
       "Oral mucosal exfoliation                  1\n",
       "Pseudomonas infection                     1\n",
       "Blood chloride decreased                  1\n",
       "Dermatitis                                1\n",
       "Anxiety                                   1\n",
       "Dermatitis exfoliative                    1\n",
       "Blood lactate dehydrogenase increased     1\n",
       "Rash                                      1\n",
       "Rash macular                              1\n",
       "Photophobia                               1\n",
       "Pathogen resistance                       1\n",
       "Mucosal erosion                           1\n",
       "Pyrexia                                   1\n",
       "Dermatitis bullous                        1\n",
       "Eyelid disorder                           1\n",
       "Conjunctivitis                            1\n",
       "Malaise                                   1\n",
       "Anaemia                                   1\n",
       "Haemorrhage subepidermal                  1\n",
       "Oropharyngeal pain                        1\n",
       "Sepsis                                    1\n",
       "Coagulopathy                              1\n",
       "Pain                                      1\n",
       "Eye irritation                            1\n",
       "Hyperglycaemia                            1\n",
       "Conjunctival disorder                     1\n",
       "Hyponatraemia                             1\n",
       "Tachypnoea                                1\n",
       "Chills                                    1\n",
       "Hyperpyrexia                              1\n",
       "Hypocalcaemia                             1\n",
       "Staphylococcal infection                  1\n",
       "Hypoproteinaemia                          1\n",
       "Tachycardia                               1\n",
       "Name: ae, dtype: int64"
      ]
     },
     "execution_count": 17,
     "metadata": {},
     "output_type": "execute_result"
    }
   ],
   "source": [
    "df_aes_faers.ae.value_counts()"
   ]
  },
  {
   "cell_type": "markdown",
   "metadata": {
    "Collapsed": "false",
    "toc-hr-collapsed": true,
    "toc-nb-collapsed": true
   },
   "source": [
    "### Chemistry Query"
   ]
  },
  {
   "cell_type": "markdown",
   "metadata": {
    "Collapsed": "false"
   },
   "source": [
    "#### Query for Available Data Fields"
   ]
  },
  {
   "cell_type": "code",
   "execution_count": 9,
   "metadata": {
    "Collapsed": "false"
   },
   "outputs": [],
   "source": [
    "url_chem_fields=os.getenv('URL_CHEM_FIELDS')\n",
    "url_chem_facets_fields=os.getenv('URL_CHEM_FACET_FIELDS')\n",
    "url_chem_post_search=os.getenv('URL_CHEM_SEARCH')"
   ]
  },
  {
   "cell_type": "code",
   "execution_count": 11,
   "metadata": {
    "Collapsed": "false"
   },
   "outputs": [],
   "source": [
    "parameters=dict()\n",
    "parameters['apiKey']=api_key\n",
    "parameters['insttoken']=insttoken\n",
    "url_chem_fields=os.getenv('URL_CHEM_FIELDS')"
   ]
  },
  {
   "cell_type": "code",
   "execution_count": 13,
   "metadata": {
    "Collapsed": "false"
   },
   "outputs": [],
   "source": [
    "df_fields=get_data_fields(url_chem_fields, parameters)"
   ]
  },
  {
   "cell_type": "code",
   "execution_count": 14,
   "metadata": {
    "Collapsed": "false"
   },
   "outputs": [
    {
     "data": {
      "text/html": [
       "<div>\n",
       "<style scoped>\n",
       "    .dataframe tbody tr th:only-of-type {\n",
       "        vertical-align: middle;\n",
       "    }\n",
       "\n",
       "    .dataframe tbody tr th {\n",
       "        vertical-align: top;\n",
       "    }\n",
       "\n",
       "    .dataframe thead th {\n",
       "        text-align: right;\n",
       "    }\n",
       "</style>\n",
       "<table border=\"1\" class=\"dataframe\">\n",
       "  <thead>\n",
       "    <tr style=\"text-align: right;\">\n",
       "      <th></th>\n",
       "      <th></th>\n",
       "    </tr>\n",
       "  </thead>\n",
       "  <tbody>\n",
       "    <tr>\n",
       "      <th>0</th>\n",
       "      <td>moleculeFile</td>\n",
       "    </tr>\n",
       "    <tr>\n",
       "      <th>1</th>\n",
       "      <td>smiles</td>\n",
       "    </tr>\n",
       "    <tr>\n",
       "      <th>2</th>\n",
       "      <td>name</td>\n",
       "    </tr>\n",
       "    <tr>\n",
       "      <th>3</th>\n",
       "      <td>formula</td>\n",
       "    </tr>\n",
       "    <tr>\n",
       "      <th>4</th>\n",
       "      <td>metabolism</td>\n",
       "    </tr>\n",
       "    <tr>\n",
       "      <th>5</th>\n",
       "      <td>molecularWeight</td>\n",
       "    </tr>\n",
       "  </tbody>\n",
       "</table>\n",
       "</div>"
      ],
      "text/plain": [
       "                  \n",
       "0     moleculeFile\n",
       "1           smiles\n",
       "2             name\n",
       "3          formula\n",
       "4       metabolism\n",
       "5  molecularWeight"
      ]
     },
     "execution_count": 14,
     "metadata": {},
     "output_type": "execute_result"
    }
   ],
   "source": [
    "df_fields"
   ]
  },
  {
   "cell_type": "markdown",
   "metadata": {
    "Collapsed": "false"
   },
   "source": [
    "#### Query for Available Facet Fields"
   ]
  },
  {
   "cell_type": "code",
   "execution_count": 18,
   "metadata": {
    "Collapsed": "false"
   },
   "outputs": [],
   "source": [
    "parameters=dict()\n",
    "parameters['apiKey']=api_key\n",
    "parameters['insttoken']=insttoken\n",
    "url_chem_facets=os.getenv('URL_CHEM_FACET_FIELDS')"
   ]
  },
  {
   "cell_type": "code",
   "execution_count": 16,
   "metadata": {
    "Collapsed": "false"
   },
   "outputs": [],
   "source": [
    "df_facets=get_facet_fields(url_chem_facets, parameters)"
   ]
  },
  {
   "cell_type": "code",
   "execution_count": 17,
   "metadata": {
    "Collapsed": "false"
   },
   "outputs": [
    {
     "data": {
      "text/html": [
       "<div>\n",
       "<style scoped>\n",
       "    .dataframe tbody tr th:only-of-type {\n",
       "        vertical-align: middle;\n",
       "    }\n",
       "\n",
       "    .dataframe tbody tr th {\n",
       "        vertical-align: top;\n",
       "    }\n",
       "\n",
       "    .dataframe thead th {\n",
       "        text-align: right;\n",
       "    }\n",
       "</style>\n",
       "<table border=\"1\" class=\"dataframe\">\n",
       "  <thead>\n",
       "    <tr style=\"text-align: right;\">\n",
       "      <th></th>\n",
       "      <th>facet_fields</th>\n",
       "    </tr>\n",
       "  </thead>\n",
       "  <tbody>\n",
       "    <tr>\n",
       "      <th>0</th>\n",
       "      <td>drugs</td>\n",
       "    </tr>\n",
       "  </tbody>\n",
       "</table>\n",
       "</div>"
      ],
      "text/plain": [
       "  facet_fields\n",
       "0        drugs"
      ]
     },
     "execution_count": 17,
     "metadata": {},
     "output_type": "execute_result"
    }
   ],
   "source": [
    "df_facets"
   ]
  },
  {
   "cell_type": "markdown",
   "metadata": {
    "Collapsed": "false"
   },
   "source": [
    "#### Chem Structure Search"
   ]
  },
  {
   "cell_type": "code",
   "execution_count": 114,
   "metadata": {
    "Collapsed": "false"
   },
   "outputs": [],
   "source": [
    "payload=dict()\n",
    "# parameters=dict()\n",
    "payload['apiKey']=api_key\n",
    "payload['insttoken']=insttoken\n",
    "url_chem_post_search=os.getenv('URL_CHEM_SEARCH')\n"
   ]
  },
  {
   "cell_type": "code",
   "execution_count": 115,
   "metadata": {
    "Collapsed": "false"
   },
   "outputs": [],
   "source": [
    "url_chem_post_search='https://api-dev.ppnp.cm-elsevier.com/v1/chemistry/search'"
   ]
  },
  {
   "cell_type": "code",
   "execution_count": null,
   "metadata": {
    "Collapsed": "false"
   },
   "outputs": [],
   "source": [
    "payload['query']={ \n",
    "    \"structure\": \"\\n  Ketcher 04272117552D 1   1.00000     0.00000     0\\n\\n  6  6  0     0  0            999 V2000\\n  -12.2731    4.5825    0.0000 C   0  0  0  0  0  0  0        0  0  0\\n  -11.4071    4.0825    0.0000 C   0  0  0  0  0  0  0        0  0  0\\n  -11.4071    3.0825    0.0000 C   0  0  0  0  0  0  0        0  0  0\\n  -12.2731    2.5825    0.0000 C   0  0  0  0  0  0  0        0  0  0\\n  -13.1392    3.0825    0.0000 C   0  0  0  0  0  0  0        0  0  0\\n  -13.1392    4.0825    0.0000 C   0  0  0  0  0  0  0        0  0  0\\n  1  2  1  0     0  0\\n  2  3  2  0     0  0\\n  3  4  1  0     0  0\\n  4  5  2  0     0  0\\n  5  6  1  0     0  0\\n  6  1  2  0     0  0\\nM  END\\n\",\n",
    "    \"type\": \"Substructure\"}"
   ]
  },
  {
   "cell_type": "code",
   "execution_count": null,
   "metadata": {
    "Collapsed": "false"
   },
   "outputs": [],
   "source": []
  },
  {
   "cell_type": "code",
   "execution_count": 117,
   "metadata": {
    "Collapsed": "false"
   },
   "outputs": [
    {
     "data": {
      "text/plain": [
       "{'apiKey': 'e091cb8e7cbbff3706c5db121fccb53c',\n",
       " 'insttoken': 'bb1804dcaa3a8dcf07ad5334d4a67c75',\n",
       " 'query': {'structure': '\\n  Ketcher 04272117552D 1   1.00000     0.00000     0\\n\\n  6  6  0     0  0            999 V2000\\n  -12.2731    4.5825    0.0000 C   0  0  0  0  0  0  0        0  0  0\\n  -11.4071    4.0825    0.0000 C   0  0  0  0  0  0  0        0  0  0\\n  -11.4071    3.0825    0.0000 C   0  0  0  0  0  0  0        0  0  0\\n  -12.2731    2.5825    0.0000 C   0  0  0  0  0  0  0        0  0  0\\n  -13.1392    3.0825    0.0000 C   0  0  0  0  0  0  0        0  0  0\\n  -13.1392    4.0825    0.0000 C   0  0  0  0  0  0  0        0  0  0\\n  1  2  1  0     0  0\\n  2  3  2  0     0  0\\n  3  4  1  0     0  0\\n  4  5  2  0     0  0\\n  5  6  1  0     0  0\\n  6  1  2  0     0  0\\nM  END\\n',\n",
       "  'type': 'Substructure'}}"
      ]
     },
     "execution_count": 117,
     "metadata": {},
     "output_type": "execute_result"
    }
   ],
   "source": [
    "payload"
   ]
  },
  {
   "cell_type": "code",
   "execution_count": 118,
   "metadata": {
    "Collapsed": "false"
   },
   "outputs": [],
   "source": [
    "r = requests.post(url_chem_post_search, payload)"
   ]
  },
  {
   "cell_type": "code",
   "execution_count": 119,
   "metadata": {
    "Collapsed": "false"
   },
   "outputs": [
    {
     "name": "stdout",
     "output_type": "stream",
     "text": [
      "https://api-dev.ppnp.cm-elsevier.com/v1/chemistry/search\n",
      "\n",
      "apiKey=e091cb8e7cbbff3706c5db121fccb53c&insttoken=bb1804dcaa3a8dcf07ad5334d4a67c75&query=structure&query=type\n",
      "{'User-Agent': 'python-requests/2.22.0', 'Accept-Encoding': 'gzip, deflate', 'Accept': '*/*', 'Connection': 'keep-alive', 'Content-Length': '109', 'Content-Type': 'application/x-www-form-urlencoded'}\n",
      "415\n"
     ]
    }
   ],
   "source": [
    "print(r.request.url)\n",
    "print(r.text)\n",
    "print(r.request.body)\n",
    "print(r.request.headers)\n",
    "print(r.status_code)"
   ]
  },
  {
   "cell_type": "markdown",
   "metadata": {
    "Collapsed": "false",
    "toc-hr-collapsed": true,
    "toc-nb-collapsed": true
   },
   "source": [
    "### Efficacy"
   ]
  },
  {
   "cell_type": "markdown",
   "metadata": {
    "Collapsed": "false"
   },
   "source": [
    "#### Query for Available Data Fields"
   ]
  },
  {
   "cell_type": "code",
   "execution_count": 12,
   "metadata": {
    "Collapsed": "false"
   },
   "outputs": [],
   "source": [
    "parameters = dict()\n",
    "\n",
    "parameters['apiKey']=api_key\n",
    "parameters['insttoken']=insttoken\n",
    "url_efficacy_fields = os.getenv('URL_EFFICACY_FIELDS')"
   ]
  },
  {
   "cell_type": "code",
   "execution_count": 13,
   "metadata": {
    "Collapsed": "false"
   },
   "outputs": [
    {
     "data": {
      "text/plain": [
       "'https://api.elsevier.com/pharma/efficacy/listDataFields'"
      ]
     },
     "execution_count": 13,
     "metadata": {},
     "output_type": "execute_result"
    }
   ],
   "source": [
    "url_efficacy_fields"
   ]
  },
  {
   "cell_type": "code",
   "execution_count": 14,
   "metadata": {
    "Collapsed": "false"
   },
   "outputs": [],
   "source": [
    "df_fields=get_data_fields(url_efficacy_fields, parameters)"
   ]
  },
  {
   "cell_type": "code",
   "execution_count": 15,
   "metadata": {
    "Collapsed": "false"
   },
   "outputs": [
    {
     "data": {
      "text/html": [
       "<div>\n",
       "<style scoped>\n",
       "    .dataframe tbody tr th:only-of-type {\n",
       "        vertical-align: middle;\n",
       "    }\n",
       "\n",
       "    .dataframe tbody tr th {\n",
       "        vertical-align: top;\n",
       "    }\n",
       "\n",
       "    .dataframe thead th {\n",
       "        text-align: right;\n",
       "    }\n",
       "</style>\n",
       "<table border=\"1\" class=\"dataframe\">\n",
       "  <thead>\n",
       "    <tr style=\"text-align: right;\">\n",
       "      <th></th>\n",
       "      <th></th>\n",
       "    </tr>\n",
       "  </thead>\n",
       "  <tbody>\n",
       "    <tr>\n",
       "      <th>0</th>\n",
       "      <td>specie</td>\n",
       "    </tr>\n",
       "    <tr>\n",
       "      <th>1</th>\n",
       "      <td>treatment</td>\n",
       "    </tr>\n",
       "    <tr>\n",
       "      <th>2</th>\n",
       "      <td>smiles</td>\n",
       "    </tr>\n",
       "    <tr>\n",
       "      <th>3</th>\n",
       "      <td>document</td>\n",
       "    </tr>\n",
       "    <tr>\n",
       "      <th>4</th>\n",
       "      <td>comparativeGroup</td>\n",
       "    </tr>\n",
       "    <tr>\n",
       "      <th>5</th>\n",
       "      <td>studyDesign</td>\n",
       "    </tr>\n",
       "    <tr>\n",
       "      <th>6</th>\n",
       "      <td>monoCombination</td>\n",
       "    </tr>\n",
       "    <tr>\n",
       "      <th>7</th>\n",
       "      <td>documentYear</td>\n",
       "    </tr>\n",
       "    <tr>\n",
       "      <th>8</th>\n",
       "      <td>source</td>\n",
       "    </tr>\n",
       "    <tr>\n",
       "      <th>9</th>\n",
       "      <td>sampleSize</td>\n",
       "    </tr>\n",
       "    <tr>\n",
       "      <th>10</th>\n",
       "      <td>doseFrequency</td>\n",
       "    </tr>\n",
       "    <tr>\n",
       "      <th>11</th>\n",
       "      <td>drug</td>\n",
       "    </tr>\n",
       "    <tr>\n",
       "      <th>12</th>\n",
       "      <td>endpointHigh</td>\n",
       "    </tr>\n",
       "    <tr>\n",
       "      <th>13</th>\n",
       "      <td>unitOriginal</td>\n",
       "    </tr>\n",
       "    <tr>\n",
       "      <th>14</th>\n",
       "      <td>endpoint</td>\n",
       "    </tr>\n",
       "    <tr>\n",
       "      <th>15</th>\n",
       "      <td>timePoint</td>\n",
       "    </tr>\n",
       "    <tr>\n",
       "      <th>16</th>\n",
       "      <td>experimentalDetail</td>\n",
       "    </tr>\n",
       "    <tr>\n",
       "      <th>17</th>\n",
       "      <td>placebo</td>\n",
       "    </tr>\n",
       "    <tr>\n",
       "      <th>18</th>\n",
       "      <td>phase</td>\n",
       "    </tr>\n",
       "    <tr>\n",
       "      <th>19</th>\n",
       "      <td>endpointType</td>\n",
       "    </tr>\n",
       "    <tr>\n",
       "      <th>20</th>\n",
       "      <td>sex</td>\n",
       "    </tr>\n",
       "    <tr>\n",
       "      <th>21</th>\n",
       "      <td>pValue</td>\n",
       "    </tr>\n",
       "    <tr>\n",
       "      <th>22</th>\n",
       "      <td>baseline</td>\n",
       "    </tr>\n",
       "    <tr>\n",
       "      <th>23</th>\n",
       "      <td>population</td>\n",
       "    </tr>\n",
       "    <tr>\n",
       "      <th>24</th>\n",
       "      <td>valueOriginal</td>\n",
       "    </tr>\n",
       "    <tr>\n",
       "      <th>25</th>\n",
       "      <td>displayValue</td>\n",
       "    </tr>\n",
       "    <tr>\n",
       "      <th>26</th>\n",
       "      <td>standardIndications</td>\n",
       "    </tr>\n",
       "    <tr>\n",
       "      <th>27</th>\n",
       "      <td>dose</td>\n",
       "    </tr>\n",
       "    <tr>\n",
       "      <th>28</th>\n",
       "      <td>endpointLow</td>\n",
       "    </tr>\n",
       "    <tr>\n",
       "      <th>29</th>\n",
       "      <td>route</td>\n",
       "    </tr>\n",
       "    <tr>\n",
       "      <th>30</th>\n",
       "      <td>pathogen</td>\n",
       "    </tr>\n",
       "    <tr>\n",
       "      <th>31</th>\n",
       "      <td>dataProvider</td>\n",
       "    </tr>\n",
       "    <tr>\n",
       "      <th>32</th>\n",
       "      <td>indication</td>\n",
       "    </tr>\n",
       "    <tr>\n",
       "      <th>33</th>\n",
       "      <td>studyNumber</td>\n",
       "    </tr>\n",
       "    <tr>\n",
       "      <th>34</th>\n",
       "      <td>age</td>\n",
       "    </tr>\n",
       "    <tr>\n",
       "      <th>35</th>\n",
       "      <td>endpointMid</td>\n",
       "    </tr>\n",
       "  </tbody>\n",
       "</table>\n",
       "</div>"
      ],
      "text/plain": [
       "                       \n",
       "0                specie\n",
       "1             treatment\n",
       "2                smiles\n",
       "3              document\n",
       "4      comparativeGroup\n",
       "5           studyDesign\n",
       "6       monoCombination\n",
       "7          documentYear\n",
       "8                source\n",
       "9            sampleSize\n",
       "10        doseFrequency\n",
       "11                 drug\n",
       "12         endpointHigh\n",
       "13         unitOriginal\n",
       "14             endpoint\n",
       "15            timePoint\n",
       "16   experimentalDetail\n",
       "17              placebo\n",
       "18                phase\n",
       "19         endpointType\n",
       "20                  sex\n",
       "21               pValue\n",
       "22             baseline\n",
       "23           population\n",
       "24        valueOriginal\n",
       "25         displayValue\n",
       "26  standardIndications\n",
       "27                 dose\n",
       "28          endpointLow\n",
       "29                route\n",
       "30             pathogen\n",
       "31         dataProvider\n",
       "32           indication\n",
       "33          studyNumber\n",
       "34                  age\n",
       "35          endpointMid"
      ]
     },
     "execution_count": 15,
     "metadata": {},
     "output_type": "execute_result"
    }
   ],
   "source": [
    "df_fields"
   ]
  },
  {
   "cell_type": "markdown",
   "metadata": {
    "Collapsed": "false"
   },
   "source": [
    "#### Query for Available Facet Fields"
   ]
  },
  {
   "cell_type": "code",
   "execution_count": 16,
   "metadata": {
    "Collapsed": "false"
   },
   "outputs": [],
   "source": [
    "parameters = dict()\n",
    "parameters['apiKey'] = api_key\n",
    "parameters['insttoken'] = insttoken\n",
    "url_efficacy_facets = os.getenv('URL_EFFICACY_FACET_FIELDS')\n"
   ]
  },
  {
   "cell_type": "code",
   "execution_count": 17,
   "metadata": {
    "Collapsed": "false"
   },
   "outputs": [
    {
     "data": {
      "text/plain": [
       "'https://api.elsevier.com/pharma/efficacy/listFacets'"
      ]
     },
     "execution_count": 17,
     "metadata": {},
     "output_type": "execute_result"
    }
   ],
   "source": [
    "url_efficacy_facets"
   ]
  },
  {
   "cell_type": "code",
   "execution_count": 18,
   "metadata": {
    "Collapsed": "false"
   },
   "outputs": [],
   "source": [
    "df_facets=get_facet_fields(url_efficacy_facets, parameters)"
   ]
  },
  {
   "cell_type": "code",
   "execution_count": 19,
   "metadata": {
    "Collapsed": "false"
   },
   "outputs": [
    {
     "data": {
      "text/html": [
       "<div>\n",
       "<style scoped>\n",
       "    .dataframe tbody tr th:only-of-type {\n",
       "        vertical-align: middle;\n",
       "    }\n",
       "\n",
       "    .dataframe tbody tr th {\n",
       "        vertical-align: top;\n",
       "    }\n",
       "\n",
       "    .dataframe thead th {\n",
       "        text-align: right;\n",
       "    }\n",
       "</style>\n",
       "<table border=\"1\" class=\"dataframe\">\n",
       "  <thead>\n",
       "    <tr style=\"text-align: right;\">\n",
       "      <th></th>\n",
       "      <th>facet_fields</th>\n",
       "    </tr>\n",
       "  </thead>\n",
       "  <tbody>\n",
       "    <tr>\n",
       "      <th>0</th>\n",
       "      <td>drugs</td>\n",
       "    </tr>\n",
       "    <tr>\n",
       "      <th>1</th>\n",
       "      <td>species</td>\n",
       "    </tr>\n",
       "    <tr>\n",
       "      <th>2</th>\n",
       "      <td>sources</td>\n",
       "    </tr>\n",
       "    <tr>\n",
       "      <th>3</th>\n",
       "      <td>indications</td>\n",
       "    </tr>\n",
       "    <tr>\n",
       "      <th>4</th>\n",
       "      <td>endpoints</td>\n",
       "    </tr>\n",
       "    <tr>\n",
       "      <th>5</th>\n",
       "      <td>pathogens</td>\n",
       "    </tr>\n",
       "    <tr>\n",
       "      <th>6</th>\n",
       "      <td>route</td>\n",
       "    </tr>\n",
       "    <tr>\n",
       "      <th>7</th>\n",
       "      <td>monoCombination</td>\n",
       "    </tr>\n",
       "    <tr>\n",
       "      <th>8</th>\n",
       "      <td>sampleSize</td>\n",
       "    </tr>\n",
       "    <tr>\n",
       "      <th>9</th>\n",
       "      <td>phase</td>\n",
       "    </tr>\n",
       "    <tr>\n",
       "      <th>10</th>\n",
       "      <td>dataProvider</td>\n",
       "    </tr>\n",
       "    <tr>\n",
       "      <th>11</th>\n",
       "      <td>studyDesigns</td>\n",
       "    </tr>\n",
       "    <tr>\n",
       "      <th>12</th>\n",
       "      <td>endpointType</td>\n",
       "    </tr>\n",
       "    <tr>\n",
       "      <th>13</th>\n",
       "      <td>doseFrequency</td>\n",
       "    </tr>\n",
       "    <tr>\n",
       "      <th>14</th>\n",
       "      <td>baseline</td>\n",
       "    </tr>\n",
       "    <tr>\n",
       "      <th>15</th>\n",
       "      <td>comparativeGroup</td>\n",
       "    </tr>\n",
       "    <tr>\n",
       "      <th>16</th>\n",
       "      <td>population</td>\n",
       "    </tr>\n",
       "    <tr>\n",
       "      <th>17</th>\n",
       "      <td>sex</td>\n",
       "    </tr>\n",
       "    <tr>\n",
       "      <th>18</th>\n",
       "      <td>age</td>\n",
       "    </tr>\n",
       "    <tr>\n",
       "      <th>19</th>\n",
       "      <td>documentYear</td>\n",
       "    </tr>\n",
       "  </tbody>\n",
       "</table>\n",
       "</div>"
      ],
      "text/plain": [
       "        facet_fields\n",
       "0              drugs\n",
       "1            species\n",
       "2            sources\n",
       "3        indications\n",
       "4          endpoints\n",
       "5          pathogens\n",
       "6              route\n",
       "7    monoCombination\n",
       "8         sampleSize\n",
       "9              phase\n",
       "10      dataProvider\n",
       "11      studyDesigns\n",
       "12      endpointType\n",
       "13     doseFrequency\n",
       "14          baseline\n",
       "15  comparativeGroup\n",
       "16        population\n",
       "17               sex\n",
       "18               age\n",
       "19      documentYear"
      ]
     },
     "execution_count": 19,
     "metadata": {},
     "output_type": "execute_result"
    }
   ],
   "source": [
    "df_facets"
   ]
  },
  {
   "cell_type": "markdown",
   "metadata": {
    "Collapsed": "false"
   },
   "source": [
    "#### Query for Indication"
   ]
  },
  {
   "cell_type": "code",
   "execution_count": 130,
   "metadata": {
    "Collapsed": "false"
   },
   "outputs": [],
   "source": [
    "parameters = dict()\n",
    "parameters['apiKey'] = api_key\n",
    "parameters['insttoken'] = insttoken\n",
    "parameters['drugs']='Abacavir Sulfate'\n",
    "parameters['limitation.count']=0\n",
    "parameters['species']='human'\n",
    "parameters['facets'] = ['indications', 'species']\n",
    "parameters['leaf']=True\n",
    "url_efficacy_search=os.getenv('URL_EFFICACY_SEARCH')"
   ]
  },
  {
   "cell_type": "code",
   "execution_count": 131,
   "metadata": {
    "Collapsed": "false"
   },
   "outputs": [
    {
     "data": {
      "text/plain": [
       "'https://api.elsevier.com/pharma/efficacy/search'"
      ]
     },
     "execution_count": 131,
     "metadata": {},
     "output_type": "execute_result"
    }
   ],
   "source": [
    "url_efficacy_search"
   ]
  },
  {
   "cell_type": "code",
   "execution_count": 132,
   "metadata": {
    "Collapsed": "false"
   },
   "outputs": [],
   "source": [
    "with requests.Session() as s:\n",
    "        r = s.get(url_efficacy_search, params=parameters).json()"
   ]
  },
  {
   "cell_type": "code",
   "execution_count": 133,
   "metadata": {
    "Collapsed": "false",
    "scrolled": true
   },
   "outputs": [
    {
     "data": {
      "text/plain": [
       "{'countTotal': 2981, 'countLimited': 0, 'items': []}"
      ]
     },
     "execution_count": 133,
     "metadata": {},
     "output_type": "execute_result"
    },
    {
     "data": {
      "text/plain": [
       "{'indications': {'children': [{'data': {'id': '2',\n",
       "     'name': 'HIV',\n",
       "     'count': 290}},\n",
       "   {'data': {'id': '10',\n",
       "     'name': 'HIV infected with CD4+ cell counts 100 cells/mm3',\n",
       "     'count': 56}},\n",
       "   {'data': {'id': '34', 'name': 'HIV-1 and HIV-2 infection', 'count': 2}},\n",
       "   {'data': {'id': '4', 'name': 'HIV-1 infected', 'count': 148}},\n",
       "   {'data': {'id': '11',\n",
       "     'name': 'HIV-1 infected patients with AIDS Dementia Complex',\n",
       "     'count': 52}},\n",
       "   {'data': {'id': '1', 'name': 'HIV-1 infection', 'count': 1550}},\n",
       "   {'data': {'id': '9',\n",
       "     'name': 'HIV-1 infection in antiretoviral (ART)-naive patients',\n",
       "     'count': 65}},\n",
       "   {'data': {'id': '5',\n",
       "     'name': 'HIV-1 infection in antiretroviral (ART)-experienced (>12 weeks previous therapy; ZDV, 3TC or other therapy in the last 6 months) children',\n",
       "     'count': 136}},\n",
       "   {'data': {'id': '14',\n",
       "     'name': 'HIV-1 infection in antiretroviral (ART)-experienced but TDF naive patients, receiving a stable regimen containing 3 NRTIs, or 2 NRTIs and 1 PI or 2 NRTIs + and 1 NNRTI for at least 3 months and having <=3 NRTI-associated mutations (including M184V), but without K65R, L74V, 69S insertion, Q151M, M41L, L210W, or>=3 thymidine analogues mutations (TAMs)',\n",
       "     'count': 31}},\n",
       "   {'data': {'id': '6',\n",
       "     'name': 'HIV-1 infection in antiretroviral (ART)-experienced patients with CD4+ cell count >=100 cell/mm3 and plasma HIV-1 RNA between 400 - 50000 copies/mL',\n",
       "     'count': 77}},\n",
       "   {'data': {'id': '15',\n",
       "     'name': 'HIV-1 infection in antiretroviral (ART)-experienced patients, treated with an initial antiretroviral regimen containing abacavir 300 mg BID and lamivudine 150mg BID in combination with either a PI or NNRTI for >= 24 weeks',\n",
       "     'count': 31}},\n",
       "   {'data': {'id': '17',\n",
       "     'name': 'HIV-1 infection in antiretroviral (ART)-naive adult patients with plasma HIV-1 RNA >10000 copies/mL and CD4+ cell counts >=100 cells/mm3',\n",
       "     'count': 21}},\n",
       "   {'data': {'id': '7',\n",
       "     'name': 'HIV-1 infection in antiretroviral (ART)-naive patients',\n",
       "     'count': 74}},\n",
       "   {'data': {'id': '8',\n",
       "     'name': 'HIV-1 infection in antiretroviral (ART)-naive patients with asymptomatic HIV infection and AIDS',\n",
       "     'count': 66}},\n",
       "   {'data': {'id': '35',\n",
       "     'name': 'HIV-1 infection in heavily NRTI pretreated patients',\n",
       "     'count': 2}},\n",
       "   {'data': {'id': '36',\n",
       "     'name': 'HIV-1 infection in patients moderately exposed to antiretroviral (ART) therapy',\n",
       "     'count': 2}},\n",
       "   {'data': {'id': '23',\n",
       "     'name': 'HIV-1 infection in patients who failing or intolerant to standard therapy',\n",
       "     'count': 4}},\n",
       "   {'data': {'id': '37',\n",
       "     'name': 'HIV-1 infection in patients with a screening plasma HIV-1 RNA >500 copies/ml despite at least 20 weeks prior therapy with indinavir, ritonavir, saquinavir and/or nelfinavir',\n",
       "     'count': 2}},\n",
       "   {'data': {'id': '39',\n",
       "     'name': 'HIV-1 infection in patients with extensive antiretroviral exposure',\n",
       "     'count': 1}},\n",
       "   {'data': {'id': '24',\n",
       "     'name': 'HIV-1 infection in patients with virologic suppression on a first line therapy regimen containing abacavir 300 mg plus lamivudine 150 mg',\n",
       "     'count': 4}},\n",
       "   {'data': {'id': '18',\n",
       "     'name': 'HIV-1 infection in previously antiretroviral (ART)-naive patients treated with the 3TC/ZDV combination for at least 12 weeks',\n",
       "     'count': 17}},\n",
       "   {'data': {'id': '25',\n",
       "     'name': 'HIV-1 infection in therapy experienced patients with any one baseline reverse transcriptase mutations (NRTI-assotiated mutations)',\n",
       "     'count': 4}},\n",
       "   {'data': {'id': '26',\n",
       "     'name': 'HIV-1 infection in therapy experienced patients with any three baseline reverse transcriptase mutations (NRTI-assotiated mutations)',\n",
       "     'count': 4}},\n",
       "   {'data': {'id': '27',\n",
       "     'name': 'HIV-1 infection in therapy experienced patients with any two baseline reverse transcriptase mutations (NRTI-assotiated mutations)',\n",
       "     'count': 4}},\n",
       "   {'data': {'id': '38',\n",
       "     'name': 'HIV-1 infection in therapy experienced patients with baseline 69 insertion complex or the Q151M mutation, in combination with A62V, V75I, F77L and F116Y',\n",
       "     'count': 2}},\n",
       "   {'data': {'id': '28',\n",
       "     'name': 'HIV-1 infection in therapy experienced patients with baseline reverse transcriptase mutations M184V/I alone',\n",
       "     'count': 4}},\n",
       "   {'data': {'id': '29',\n",
       "     'name': 'HIV-1 infection in therapy experienced patients with baseline reverse transcriptase mutations M184V/I, T215Y/F, M41L, K70R and D67N',\n",
       "     'count': 4}},\n",
       "   {'data': {'id': '30',\n",
       "     'name': 'HIV-1 infection in therapy experienced patients with four or more baseline reverse transcriptase mutations (NRTI-assotiated mutations)',\n",
       "     'count': 4}},\n",
       "   {'data': {'id': '31',\n",
       "     'name': 'HIV-1 infection in therapy experienced patients without baseline reverse transcriptase mutations (NRTI-assotiated mutations)',\n",
       "     'count': 4}},\n",
       "   {'data': {'id': '3',\n",
       "     'name': 'HIV-1 infection in therapy naive patients',\n",
       "     'count': 178}},\n",
       "   {'data': {'id': '21',\n",
       "     'name': 'HIV-1 infection in therapy naive patients, including primarily asymptomatic HIV infected patients - Centre for Disease Control and Prevention (CDC) stage A',\n",
       "     'count': 6}},\n",
       "   {'data': {'id': '40',\n",
       "     'name': 'HIV-1 infection in treatment naive patients',\n",
       "     'count': 1}},\n",
       "   {'data': {'id': '19',\n",
       "     'name': 'HIV-1 infection in treatment-experienced patients with virologic failure',\n",
       "     'count': 13}},\n",
       "   {'data': {'id': '12',\n",
       "     'name': 'HIV-1 infection in treatment-naive patients',\n",
       "     'count': 38}},\n",
       "   {'data': {'id': '32',\n",
       "     'name': 'HIV-1 infection, advanced study (at least one prior AIDS-defining illness), in patients with failing or intolerant to standard therapy',\n",
       "     'count': 4}},\n",
       "   {'data': {'id': '22',\n",
       "     'name': 'HIV-1 infection, AIDS Dementia Complex',\n",
       "     'count': 5}},\n",
       "   {'data': {'id': '13',\n",
       "     'name': 'human immunodeficiency virus infection',\n",
       "     'count': 36}},\n",
       "   {'data': {'id': '20',\n",
       "     'name': 'human immunodeficiency virus(HIV-1)-infected',\n",
       "     'count': 8}},\n",
       "   {'data': {'id': '33',\n",
       "     'name': 'human immunodeficiency virus(HIV-1)-infected, therapy - experienced',\n",
       "     'count': 3}},\n",
       "   {'data': {'id': '16',\n",
       "     'name': 'human immunodeficiency virus(HIV-1)-infected, therapy - naïve',\n",
       "     'count': 28}}]},\n",
       " 'species': {'children': [{'data': {'id': '1',\n",
       "     'name': 'human',\n",
       "     'count': 2981}}]}}"
      ]
     },
     "execution_count": 133,
     "metadata": {},
     "output_type": "execute_result"
    }
   ],
   "source": [
    "# r\n",
    "r['data']\n",
    "r['facets']\n",
    "# r['facets']['indications']['children']\n"
   ]
  },
  {
   "cell_type": "code",
   "execution_count": 82,
   "metadata": {
    "Collapsed": "false",
    "scrolled": true
   },
   "outputs": [
    {
     "data": {
      "text/plain": [
       "{'data': {'id': 'HhD8XsFrmzB',\n",
       "  'name': 'Infections and infestations',\n",
       "  'isLeaf': False,\n",
       "  'count': 2981},\n",
       " 'children': [{'data': {'id': 'wdw2Ncv3zD9',\n",
       "    'name': 'Viral infectious disorders',\n",
       "    'parentID': 'HhD8XsFrmzB',\n",
       "    'isLeaf': False,\n",
       "    'count': 2981},\n",
       "   'children': [{'data': {'id': 'fDSfXlXXvd-',\n",
       "      'name': 'Retroviral infections',\n",
       "      'parentID': 'wdw2Ncv3zD9',\n",
       "      'isLeaf': False,\n",
       "      'count': 2981},\n",
       "     'children': [{'data': {'id': 'a8cRj3dQjdH',\n",
       "        'name': 'HIV infection',\n",
       "        'parentID': 'fDSfXlXXvd-',\n",
       "        'isLeaf': False,\n",
       "        'count': 2929},\n",
       "       'children': [{'data': {'id': 'RCHgLRO1C0F',\n",
       "          'name': 'HIV-1 infection',\n",
       "          'parentID': 'a8cRj3dQjdH',\n",
       "          'isLeaf': True,\n",
       "          'count': 2583}},\n",
       "        {'data': {'id': 'gEkhkj0EnP8',\n",
       "          'name': 'Infection human immunodeficiency virus',\n",
       "          'parentID': 'a8cRj3dQjdH',\n",
       "          'isLeaf': True,\n",
       "          'count': 346}}]},\n",
       "      {'data': {'id': 'Z1ob-Alt1rB',\n",
       "        'name': 'HIV-associated neurocognitive disorder',\n",
       "        'parentID': 'fDSfXlXXvd-',\n",
       "        'isLeaf': False,\n",
       "        'count': 52},\n",
       "       'children': [{'data': {'id': 'GPjHp0TNC-_',\n",
       "          'name': 'AIDS dementia complex',\n",
       "          'parentID': 'Z1ob-Alt1rB',\n",
       "          'isLeaf': True,\n",
       "          'count': 52}}]}]}]}]}"
      ]
     },
     "execution_count": 82,
     "metadata": {},
     "output_type": "execute_result"
    },
    {
     "data": {
      "text/plain": [
       "1"
      ]
     },
     "execution_count": 82,
     "metadata": {},
     "output_type": "execute_result"
    }
   ],
   "source": [
    "lst=r['facets']['indications']['children']\n",
    "lst[0]\n",
    "len(lst)"
   ]
  },
  {
   "cell_type": "code",
   "execution_count": 46,
   "metadata": {
    "Collapsed": "false",
    "scrolled": true
   },
   "outputs": [
    {
     "data": {
      "text/plain": [
       "{'data': {'id': 'RDr-FwfaFAE',\n",
       "  'name': 'Blood and lymphatic system disorders',\n",
       "  'isLeaf': False,\n",
       "  'count': 34064},\n",
       " 'children': [{'data': {'id': 'KNgYqq758c_',\n",
       "    'name': 'Anaemias nonhaemolytic and marrow depression',\n",
       "    'parentID': 'RDr-FwfaFAE',\n",
       "    'isLeaf': False,\n",
       "    'count': 13779},\n",
       "   'children': [{'data': {'id': 'kjQaDsqUKV5',\n",
       "      'name': 'Anaemia deficiencies',\n",
       "      'parentID': 'KNgYqq758c_',\n",
       "      'isLeaf': False,\n",
       "      'count': 2157},\n",
       "     'children': [{'data': {'id': 'SWIzA8t6mS-',\n",
       "        'name': 'Iron deficiency anaemia',\n",
       "        'parentID': 'kjQaDsqUKV5',\n",
       "        'isLeaf': False,\n",
       "        'count': 2157},\n",
       "       'children': [{'data': {'id': 'wk__vxECrRG',\n",
       "          'name': 'Anemia iron-deficiency',\n",
       "          'parentID': 'SWIzA8t6mS-',\n",
       "          'isLeaf': True,\n",
       "          'count': 857}},\n",
       "        {'data': {'id': 'w2nEIoPoBDD',\n",
       "          'name': 'Anemia iron-deficiency in hemodialysis patients',\n",
       "          'parentID': 'SWIzA8t6mS-',\n",
       "          'isLeaf': True,\n",
       "          'count': 887}},\n",
       "        {'data': {'id': 'Tbj8FuUGirB',\n",
       "          'name': 'Anemia iron-deficiency in patients with inflammatory bowel disease',\n",
       "          'parentID': 'SWIzA8t6mS-',\n",
       "          'isLeaf': True,\n",
       "          'count': 413}}]}]},\n",
       "    {'data': {'id': 'IbM1tEFf4b5',\n",
       "      'name': 'Anaemias due to chronic disorders',\n",
       "      'parentID': 'KNgYqq758c_',\n",
       "      'isLeaf': False,\n",
       "      'count': 6482},\n",
       "     'children': [{'data': {'id': 'XUQ7PeVXI96',\n",
       "        'name': 'Nephrogenic anaemia',\n",
       "        'parentID': 'IbM1tEFf4b5',\n",
       "        'isLeaf': False,\n",
       "        'count': 6482},\n",
       "       'children': [{'data': {'id': 'WwQ1o5l2wLC',\n",
       "          'name': 'Anemia due to chronic kidney disease',\n",
       "          'parentID': 'XUQ7PeVXI96',\n",
       "          'isLeaf': True,\n",
       "          'count': 4320}},\n",
       "        {'data': {'id': 'eDMcEq0D9J4',\n",
       "          'name': 'Anemia secondary to renal failure',\n",
       "          'parentID': 'XUQ7PeVXI96',\n",
       "          'isLeaf': True,\n",
       "          'count': 2162}}]}]},\n",
       "    {'data': {'id': 'c2GLJA2R2w-',\n",
       "      'name': 'Anaemias NEC',\n",
       "      'parentID': 'KNgYqq758c_',\n",
       "      'isLeaf': False,\n",
       "      'count': 2464},\n",
       "     'children': [{'data': {'id': 'rFXaSRNx5OE',\n",
       "        'name': 'Anaemia',\n",
       "        'parentID': 'c2GLJA2R2w-',\n",
       "        'isLeaf': False,\n",
       "        'count': 2464},\n",
       "       'children': [{'data': {'id': '3jnvi9kfnxF',\n",
       "          'name': 'Anemia',\n",
       "          'parentID': 'rFXaSRNx5OE',\n",
       "          'isLeaf': True,\n",
       "          'count': 2422}},\n",
       "        {'data': {'id': 'hmy5lfWslBD',\n",
       "          'name': 'Anemia symptomatic',\n",
       "          'parentID': 'rFXaSRNx5OE',\n",
       "          'isLeaf': True,\n",
       "          'count': 42}}]}]},\n",
       "    {'data': {'id': 'fWRplwNSiPD',\n",
       "      'name': 'Marrow depression and hypoplastic anaemias',\n",
       "      'parentID': 'KNgYqq758c_',\n",
       "      'isLeaf': False,\n",
       "      'count': 2676},\n",
       "     'children': [{'data': {'id': 'FcXtx_rtiuG',\n",
       "        'name': 'Aplastic anaemia',\n",
       "        'parentID': 'fWRplwNSiPD',\n",
       "        'isLeaf': False,\n",
       "        'count': 1099},\n",
       "       'children': [{'data': {'id': '05KOkZh_cCE',\n",
       "          'name': 'Anemia aplastic',\n",
       "          'parentID': 'FcXtx_rtiuG',\n",
       "          'isLeaf': True,\n",
       "          'count': 1099}}]},\n",
       "      {'data': {'id': 'gq2biODc5V-',\n",
       "        'name': 'Bone marrow failure',\n",
       "        'parentID': 'fWRplwNSiPD',\n",
       "        'isLeaf': False,\n",
       "        'count': 1577},\n",
       "       'children': [{'data': {'id': 'hqJLoOh9mHE',\n",
       "          'name': 'Bone marrow failure',\n",
       "          'parentID': 'gq2biODc5V-',\n",
       "          'isLeaf': True,\n",
       "          'count': 1577}},\n",
       "        {'data': {'id': 'N3HMD-FUCkH',\n",
       "          'name': 'Bone marrow failure secondary to cancer chemotherapy',\n",
       "          'parentID': 'gq2biODc5V-',\n",
       "          'isLeaf': True,\n",
       "          'count': 189}}]}]}]},\n",
       "  {'data': {'id': 'Prnpi_2RQw-',\n",
       "    'name': 'Coagulopathies and bleeding diatheses (excl thrombocytopenic)',\n",
       "    'parentID': 'RDr-FwfaFAE',\n",
       "    'isLeaf': False,\n",
       "    'count': 28},\n",
       "   'children': [{'data': {'id': 'O-e9Xu-GrR4',\n",
       "      'name': 'Coagulation factor deficiencies',\n",
       "      'parentID': 'Prnpi_2RQw-',\n",
       "      'isLeaf': False,\n",
       "      'count': 8},\n",
       "     'children': [{'data': {'id': 'AbCjpTiB_E8',\n",
       "        'name': 'Factor I deficiency',\n",
       "        'parentID': 'O-e9Xu-GrR4',\n",
       "        'isLeaf': False,\n",
       "        'count': 41},\n",
       "       'children': [{'data': {'id': 'po7b6CJZR_B',\n",
       "          'name': 'Afibrinogenemia',\n",
       "          'parentID': 'AbCjpTiB_E8',\n",
       "          'isLeaf': True,\n",
       "          'count': 8}}]}]},\n",
       "    {'data': {'id': '8KpRT-hL3e_',\n",
       "      'name': 'Coagulopathies',\n",
       "      'parentID': 'Prnpi_2RQw-',\n",
       "      'isLeaf': False,\n",
       "      'count': 20},\n",
       "     'children': [{'data': {'id': 'RLYjXTI6aPA',\n",
       "        'name': 'Coagulopathy',\n",
       "        'parentID': '8KpRT-hL3e_',\n",
       "        'isLeaf': False,\n",
       "        'count': 20},\n",
       "       'children': [{'data': {'id': '8bHRe6Pyxt4',\n",
       "          'name': 'Coagulopathy',\n",
       "          'parentID': 'RLYjXTI6aPA',\n",
       "          'isLeaf': True,\n",
       "          'count': 20}}]}]}]},\n",
       "  {'data': {'id': '9yy6UfWqDGD',\n",
       "    'name': 'Haematological disorders NEC',\n",
       "    'parentID': 'RDr-FwfaFAE',\n",
       "    'isLeaf': False,\n",
       "    'count': 1936},\n",
       "   'children': [{'data': {'id': 'FFBG5mFoiB8',\n",
       "      'name': 'Haematological disorders',\n",
       "      'parentID': '9yy6UfWqDGD',\n",
       "      'isLeaf': False,\n",
       "      'count': 1936},\n",
       "     'children': [{'data': {'id': 'YxgKUZNHUT_',\n",
       "        'name': 'Blood disorder',\n",
       "        'parentID': 'FFBG5mFoiB8',\n",
       "        'isLeaf': False,\n",
       "        'count': 54},\n",
       "       'children': [{'data': {'id': 'FiO7ooJmMpG',\n",
       "          'name': 'Blood disorder',\n",
       "          'parentID': 'YxgKUZNHUT_',\n",
       "          'isLeaf': True,\n",
       "          'count': 54}},\n",
       "        {'data': {'id': 'tx4Bd9UjDy7',\n",
       "          'name': 'Hematologic disorder',\n",
       "          'parentID': 'YxgKUZNHUT_',\n",
       "          'isLeaf': True,\n",
       "          'count': 9}}]},\n",
       "      {'data': {'id': 's_bHjJGminB',\n",
       "        'name': 'Mastocytosis',\n",
       "        'parentID': 'FFBG5mFoiB8',\n",
       "        'isLeaf': False,\n",
       "        'count': 1},\n",
       "       'children': [{'data': {'id': 'FAZalLe59aB',\n",
       "          'name': 'Mastocytosis',\n",
       "          'parentID': 's_bHjJGminB',\n",
       "          'isLeaf': True,\n",
       "          'count': 1}}]},\n",
       "      {'data': {'id': '2Skwgr8k6OA',\n",
       "        'name': 'Methaemoglobinaemia',\n",
       "        'parentID': 'FFBG5mFoiB8',\n",
       "        'isLeaf': False,\n",
       "        'count': 269},\n",
       "       'children': [{'data': {'id': 'poVhnSjwca_',\n",
       "          'name': 'Acquired methemoglobinemia',\n",
       "          'parentID': '2Skwgr8k6OA',\n",
       "          'isLeaf': True,\n",
       "          'count': 269}}]},\n",
       "      {'data': {'id': 'ffu1SPMqnw7',\n",
       "        'name': 'Systemic mastocytosis',\n",
       "        'parentID': 'FFBG5mFoiB8',\n",
       "        'isLeaf': False,\n",
       "        'count': 1612},\n",
       "       'children': [{'data': {'id': 'LOWJsvzYos8',\n",
       "          'name': 'Mastocytosis systemic',\n",
       "          'parentID': 'ffu1SPMqnw7',\n",
       "          'isLeaf': True,\n",
       "          'count': 1612}}]}]}]},\n",
       "  {'data': {'id': 'mv_E9gSO2H6',\n",
       "    'name': 'Haemoglobinopathies',\n",
       "    'parentID': 'RDr-FwfaFAE',\n",
       "    'isLeaf': False,\n",
       "    'count': 1513},\n",
       "   'children': [{'data': {'id': 'rB4rCa4eW5-',\n",
       "      'name': 'Thalassaemic disorders',\n",
       "      'parentID': 'mv_E9gSO2H6',\n",
       "      'isLeaf': False,\n",
       "      'count': 1513},\n",
       "     'children': [{'data': {'id': 'ZAaTv5UD1o5',\n",
       "        'name': 'Thalassaemia beta',\n",
       "        'parentID': 'rB4rCa4eW5-',\n",
       "        'isLeaf': False,\n",
       "        'count': 3537},\n",
       "       'children': [{'data': {'id': 'HDRzQmkXmL6',\n",
       "          'name': 'Thalassaemia beta',\n",
       "          'parentID': 'ZAaTv5UD1o5',\n",
       "          'isLeaf': True,\n",
       "          'count': 3537}}]}]}]},\n",
       "  {'data': {'id': 'yKeTZv8ZoM4',\n",
       "    'name': 'Platelet disorders',\n",
       "    'parentID': 'RDr-FwfaFAE',\n",
       "    'isLeaf': False,\n",
       "    'count': 11543},\n",
       "   'children': [{'data': {'id': 'Ig09IFwNiBB',\n",
       "      'name': 'Secondary thrombocythaemias',\n",
       "      'parentID': 'yKeTZv8ZoM4',\n",
       "      'isLeaf': False,\n",
       "      'count': 634},\n",
       "     'children': [{'data': {'id': 'S_9iHUFtswA',\n",
       "        'name': 'Thrombocytosis',\n",
       "        'parentID': 'Ig09IFwNiBB',\n",
       "        'isLeaf': False,\n",
       "        'count': 634},\n",
       "       'children': [{'data': {'id': 'iKP379A538C',\n",
       "          'name': 'Thrombocythemia',\n",
       "          'parentID': 'S_9iHUFtswA',\n",
       "          'isLeaf': True,\n",
       "          'count': 634}}]}]},\n",
       "    {'data': {'id': 'rIaV3XoY_L8',\n",
       "      'name': 'Thrombocytopenias',\n",
       "      'parentID': 'yKeTZv8ZoM4',\n",
       "      'isLeaf': False,\n",
       "      'count': 10909},\n",
       "     'children': [{'data': {'id': '_Pm34cbhPA8',\n",
       "        'name': 'Immune thrombocytopenic purpura',\n",
       "        'parentID': 'rIaV3XoY_L8',\n",
       "        'isLeaf': False,\n",
       "        'count': 3365},\n",
       "       'children': [{'data': {'id': 'B5l3k20u5Y6',\n",
       "          'name': 'Autoimmune thrombocytopenia',\n",
       "          'parentID': '_Pm34cbhPA8',\n",
       "          'isLeaf': True,\n",
       "          'count': 1351}},\n",
       "        {'data': {'id': '2buV13DtUj8',\n",
       "          'name': 'Purpura idiopathic thrombocytopenic',\n",
       "          'parentID': '_Pm34cbhPA8',\n",
       "          'isLeaf': True,\n",
       "          'count': 146}},\n",
       "        {'data': {'id': 'ESW_yhOZ8n4',\n",
       "          'name': 'Thrombocytopenia purpura idiopathic',\n",
       "          'parentID': '_Pm34cbhPA8',\n",
       "          'isLeaf': True,\n",
       "          'count': 1868}}]},\n",
       "      {'data': {'id': 'pmH2DQ-2ZAB',\n",
       "        'name': 'Thrombocytopenia',\n",
       "        'parentID': 'rIaV3XoY_L8',\n",
       "        'isLeaf': False,\n",
       "        'count': 4218},\n",
       "       'children': [{'data': {'id': 'rmneucBjFQ9',\n",
       "          'name': 'Thrombocytopenia',\n",
       "          'parentID': 'pmH2DQ-2ZAB',\n",
       "          'isLeaf': True,\n",
       "          'count': 4218}},\n",
       "        {'data': {'id': 'G2XE765Oet9',\n",
       "          'name': 'Thrombocytopenia chronic immune',\n",
       "          'parentID': 'pmH2DQ-2ZAB',\n",
       "          'isLeaf': True,\n",
       "          'count': 1096}},\n",
       "        {'data': {'id': 'XRIeWXMebmE',\n",
       "          'name': 'Thrombocytopenia secondary',\n",
       "          'parentID': 'pmH2DQ-2ZAB',\n",
       "          'isLeaf': True,\n",
       "          'count': 1904}}]},\n",
       "      {'data': {'id': 'sy0EHBXQLKC',\n",
       "        'name': 'Thrombocytopenic purpura',\n",
       "        'parentID': 'rIaV3XoY_L8',\n",
       "        'isLeaf': False,\n",
       "        'count': 2848},\n",
       "       'children': [{'data': {'id': 'rhIvtugq0e9',\n",
       "          'name': 'Thrombocytopenic purpura',\n",
       "          'parentID': 'sy0EHBXQLKC',\n",
       "          'isLeaf': True,\n",
       "          'count': 2848}},\n",
       "        {'data': {'id': 'G5VMAztbbZ_',\n",
       "          'name': 'Thrombocytopenic purpura immune',\n",
       "          'parentID': 'sy0EHBXQLKC',\n",
       "          'isLeaf': True,\n",
       "          'count': 1105}}]},\n",
       "      {'data': {'id': 'dvC-8_yutSF',\n",
       "        'name': 'Thrombotic thrombocytopenic purpura',\n",
       "        'parentID': 'rIaV3XoY_L8',\n",
       "        'isLeaf': False,\n",
       "        'count': 472},\n",
       "       'children': [{'data': {'id': 'PODZ5PfhUl-',\n",
       "          'name': 'Thrombotic thrombocytopenic purpura',\n",
       "          'parentID': 'dvC-8_yutSF',\n",
       "          'isLeaf': True,\n",
       "          'count': 472}}]},\n",
       "      {'data': {'id': '2xBS7OHrr34',\n",
       "        'name': 'Wiskott-Aldrich syndrome',\n",
       "        'parentID': 'rIaV3XoY_L8',\n",
       "        'isLeaf': False,\n",
       "        'count': 6},\n",
       "       'children': [{'data': {'id': 'rb7IHSbi8NF',\n",
       "          'name': 'Wiskott-Aldrich syndrome',\n",
       "          'parentID': '2xBS7OHrr34',\n",
       "          'isLeaf': True,\n",
       "          'count': 6}}]}]}]},\n",
       "  {'data': {'id': 'YP9pjY2duX5',\n",
       "    'name': 'White blood cell disorders',\n",
       "    'parentID': 'RDr-FwfaFAE',\n",
       "    'isLeaf': False,\n",
       "    'count': 5283},\n",
       "   'children': [{'data': {'id': 'IzsSRFS-VzF',\n",
       "      'name': 'Eosinophilic disorders',\n",
       "      'parentID': 'YP9pjY2duX5',\n",
       "      'isLeaf': False,\n",
       "      'count': 63},\n",
       "     'children': [{'data': {'id': 'y7sCpIa7dn6',\n",
       "        'name': 'Hypereosinophilic syndrome',\n",
       "        'parentID': 'IzsSRFS-VzF',\n",
       "        'isLeaf': False,\n",
       "        'count': 63},\n",
       "       'children': [{'data': {'id': 'IhAaNYsCPgA',\n",
       "          'name': 'Hypereosinophilic syndrome',\n",
       "          'parentID': 'y7sCpIa7dn6',\n",
       "          'isLeaf': True,\n",
       "          'count': 63}}]}]},\n",
       "    {'data': {'id': '0RdryLWN7ZC',\n",
       "      'name': 'Neutropenias',\n",
       "      'parentID': 'YP9pjY2duX5',\n",
       "      'isLeaf': False,\n",
       "      'count': 5220},\n",
       "     'children': [{'data': {'id': 'mLbgze1xGD5',\n",
       "        'name': 'Febrile neutropenia',\n",
       "        'parentID': '0RdryLWN7ZC',\n",
       "        'isLeaf': False,\n",
       "        'count': 1384},\n",
       "       'children': [{'data': {'id': 'YppzSu2JP36',\n",
       "          'name': 'Neutropenia febrile',\n",
       "          'parentID': 'mLbgze1xGD5',\n",
       "          'isLeaf': True,\n",
       "          'count': 1384}}]},\n",
       "      {'data': {'id': 'ZWWbG7qqL64',\n",
       "        'name': 'Neutropenia',\n",
       "        'parentID': '0RdryLWN7ZC',\n",
       "        'isLeaf': False,\n",
       "        'count': 3857},\n",
       "       'children': [{'data': {'id': '-eiAuszgRMH',\n",
       "          'name': 'Neutropenia',\n",
       "          'parentID': 'ZWWbG7qqL64',\n",
       "          'isLeaf': True,\n",
       "          'count': 3857}}]}]}]}]}"
      ]
     },
     "execution_count": 46,
     "metadata": {},
     "output_type": "execute_result"
    }
   ],
   "source": [
    "lst[0]"
   ]
  },
  {
   "cell_type": "code",
   "execution_count": null,
   "metadata": {
    "Collapsed": "false"
   },
   "outputs": [],
   "source": []
  }
 ],
 "metadata": {
  "kernelspec": {
   "display_name": "pp_scripts",
   "language": "python",
   "name": "pharmapend"
  },
  "language_info": {
   "codemirror_mode": {
    "name": "ipython",
    "version": 3
   },
   "file_extension": ".py",
   "mimetype": "text/x-python",
   "name": "python",
   "nbconvert_exporter": "python",
   "pygments_lexer": "ipython3",
   "version": "3.7.3"
  }
 },
 "nbformat": 4,
 "nbformat_minor": 4
}
