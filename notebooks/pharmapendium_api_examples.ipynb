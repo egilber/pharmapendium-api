{
 "cells": [
  {
   "cell_type": "code",
   "execution_count": null,
   "metadata": {
    "Collapsed": "false"
   },
   "outputs": [],
   "source": [
    "%reload_ext autoreload\n",
    "%autoreload 2\n",
    "%matplotlib inline"
   ]
  },
  {
   "cell_type": "code",
   "execution_count": null,
   "metadata": {
    "Collapsed": "false"
   },
   "outputs": [],
   "source": [
    "%%capture\n",
    "%pwd"
   ]
  },
  {
   "cell_type": "code",
   "execution_count": null,
   "metadata": {
    "Collapsed": "false"
   },
   "outputs": [],
   "source": [
    "%%capture\n",
    "cd .."
   ]
  },
  {
   "cell_type": "code",
   "execution_count": null,
   "metadata": {
    "Collapsed": "false"
   },
   "outputs": [],
   "source": [
    "from random import sample \n",
    "from src.funcs.utils import *"
   ]
  },
  {
   "cell_type": "code",
   "execution_count": null,
   "metadata": {
    "Collapsed": "false",
    "pycharm": {
     "is_executing": false
    }
   },
   "outputs": [],
   "source": [
    "# api keys, institutional tokens and Pharmapendium module urls in .env file\n",
    "import os\n",
    "from dotenv import load_dotenv\n",
    "load_dotenv()\n",
    "api_key=os.getenv('PP_API_KEY')\n",
    "insttoken=os.getenv('PP_INSTTOKEN')\n"
   ]
  },
  {
   "cell_type": "code",
   "execution_count": null,
   "metadata": {
    "Collapsed": "false",
    "pycharm": {
     "is_executing": false
    }
   },
   "outputs": [],
   "source": [
    "from IPython.core.interactiveshell import InteractiveShell\n",
    "InteractiveShell.ast_node_interactivity = \"all\""
   ]
  },
  {
   "cell_type": "markdown",
   "metadata": {
    "Collapsed": "true",
    "toc-hr-collapsed": true,
    "toc-nb-collapsed": true
   },
   "source": [
    "### Pharmapendium Safety Query"
   ]
  },
  {
   "cell_type": "markdown",
   "metadata": {
    "Collapsed": "false"
   },
   "source": [
    "#### Query for Available Data Fields"
   ]
  },
  {
   "cell_type": "code",
   "execution_count": null,
   "metadata": {
    "Collapsed": "false"
   },
   "outputs": [],
   "source": [
    "# set parameters for api call\n",
    "parameters = dict()\n",
    "parameters['apiKey'] = api_key\n",
    "parameters['insttoken'] = insttoken\n",
    "url_safety_fields = os.getenv('URL_SAFETY_FIELDS')"
   ]
  },
  {
   "cell_type": "code",
   "execution_count": null,
   "metadata": {
    "Collapsed": "false"
   },
   "outputs": [],
   "source": [
    "# use utility function to retrieve available data fields\n",
    "df_fields=get_data_fields(url_safety_fields, parameters)"
   ]
  },
  {
   "cell_type": "code",
   "execution_count": null,
   "metadata": {
    "Collapsed": "false"
   },
   "outputs": [],
   "source": [
    "df_fields"
   ]
  },
  {
   "cell_type": "markdown",
   "metadata": {
    "Collapsed": "false"
   },
   "source": [
    "#### Query for Available Facet Fields"
   ]
  },
  {
   "cell_type": "code",
   "execution_count": null,
   "metadata": {
    "Collapsed": "false"
   },
   "outputs": [],
   "source": [
    "# set parameters for api call\n",
    "parameters = dict()\n",
    "parameters['apiKey'] = api_key\n",
    "parameters['insttoken'] = insttoken\n",
    "url_facets = os.getenv('URL_SAFETY_FACET_FIELDS')"
   ]
  },
  {
   "cell_type": "code",
   "execution_count": null,
   "metadata": {
    "Collapsed": "false"
   },
   "outputs": [],
   "source": [
    "# utility function to retrieve available facets fields\n",
    "df_facets=get_facet_fields(url_facets, parameters)"
   ]
  },
  {
   "cell_type": "code",
   "execution_count": null,
   "metadata": {
    "Collapsed": "false"
   },
   "outputs": [],
   "source": [
    "df_facets"
   ]
  },
  {
   "cell_type": "markdown",
   "metadata": {
    "Collapsed": "false"
   },
   "source": [
    "#### Query for All Clinical Drugs"
   ]
  },
  {
   "cell_type": "code",
   "execution_count": null,
   "metadata": {
    "Collapsed": "false"
   },
   "outputs": [],
   "source": [
    "# set parameters for api call\n",
    "parameters=dict()\n",
    "\n",
    "parameters['apiKey']=api_key\n",
    "parameters['insttoken']=insttoken\n",
    "parameters[\"limitation.count\"] = 0    #set to 0 when using facets\n",
    "parameters[\"facets\"]=\"drugs\"\n",
    "parameters['specie']='human'\n",
    "parameters['leaf']=True\n",
    "url_safety=os.getenv('URL_SAFETY_SEARCH')"
   ]
  },
  {
   "cell_type": "code",
   "execution_count": null,
   "metadata": {
    "Collapsed": "false"
   },
   "outputs": [],
   "source": [
    "# test status code of api call (200 is successful api call)\n",
    "with requests.Session() as s:\n",
    "    r = s.get(url_safety, params=parameters)\n",
    "r.status_code "
   ]
  },
  {
   "cell_type": "code",
   "execution_count": null,
   "metadata": {
    "Collapsed": "false"
   },
   "outputs": [],
   "source": [
    "# utility function to get all drugs\n",
    "drugs_df=get_drugs(url_safety, parameters)"
   ]
  },
  {
   "cell_type": "code",
   "execution_count": null,
   "metadata": {
    "Collapsed": "false"
   },
   "outputs": [],
   "source": [
    "drugs_df.info(); drugs_df.head(10)"
   ]
  },
  {
   "cell_type": "code",
   "execution_count": null,
   "metadata": {
    "Collapsed": "false"
   },
   "outputs": [],
   "source": [
    "drugs_df.to_pickle('./data/raw/clinical_drugs.pkl')"
   ]
  },
  {
   "cell_type": "markdown",
   "metadata": {
    "Collapsed": "false"
   },
   "source": [
    "#### Query for Pre-Marketing Adverse Events"
   ]
  },
  {
   "cell_type": "code",
   "execution_count": null,
   "metadata": {
    "Collapsed": "false"
   },
   "outputs": [],
   "source": [
    "drugs_df=pd.read_pickle('./data/raw/clinical_drugs.pkl')"
   ]
  },
  {
   "cell_type": "code",
   "execution_count": null,
   "metadata": {
    "Collapsed": "false"
   },
   "outputs": [],
   "source": [
    "drugs_df.info(); drugs_df.head()"
   ]
  },
  {
   "cell_type": "code",
   "execution_count": null,
   "metadata": {
    "Collapsed": "false"
   },
   "outputs": [],
   "source": [
    "drug_list=list(drugs_df.drug)\n",
    "len(drug_list)\n",
    "drug_sample=drug_list[:5]  #take the first 5 drugs in list for demonstration"
   ]
  },
  {
   "cell_type": "code",
   "execution_count": null,
   "metadata": {
    "Collapsed": "false"
   },
   "outputs": [],
   "source": [
    "# set parameters for api call\n",
    "parameters = dict()\n",
    "\n",
    "parameters['apiKey']=api_key\n",
    "parameters['insttoken']=insttoken\n",
    "parameters['limitation.count']=0     #set to 0 when using facets\n",
    "parameters['species']='human'\n",
    "parameters['leaf']=True\n",
    "parameters['facets'] = 'effects'\n",
    "url_safety = os.getenv('URL_SAFETY_SEARCH')"
   ]
  },
  {
   "cell_type": "code",
   "execution_count": null,
   "metadata": {
    "Collapsed": "false"
   },
   "outputs": [],
   "source": [
    "# utilitiy function to retrieve all premarketying adverse events \n",
    "df_aes=get_drug_ae(url_safety, drug_sample, parameters)"
   ]
  },
  {
   "cell_type": "code",
   "execution_count": null,
   "metadata": {
    "Collapsed": "false"
   },
   "outputs": [],
   "source": [
    "df_aes.info(); df_aes.head()"
   ]
  },
  {
   "cell_type": "markdown",
   "metadata": {
    "Collapsed": "true",
    "toc-hr-collapsed": true,
    "toc-nb-collapsed": true
   },
   "source": [
    "### Pharmapendium PK Query"
   ]
  },
  {
   "cell_type": "code",
   "execution_count": null,
   "metadata": {
    "Collapsed": "false"
   },
   "outputs": [],
   "source": [
    "# set parameters for api call\n",
    "parameters=dict()\n",
    "\n",
    "parameters['apiKey']=api_key\n",
    "parameters['insttoken']=insttoken\n",
    "parameters[\"limitation.count\"] = 0   #set to 0 when using facets\n",
    "parameters[\"facets\"]=\"drugs\"\n",
    "parameters['specie']='human'\n",
    "parameters['leaf']=True\n",
    "url_pk=os.getenv('URL_PK_SEARCH')"
   ]
  },
  {
   "cell_type": "code",
   "execution_count": null,
   "metadata": {
    "Collapsed": "false"
   },
   "outputs": [],
   "source": [
    "# check status code of api call (200 is a successful api call)\n",
    "with requests.Session() as s:\n",
    "    r = s.get(url_safety, params=parameters)\n",
    "r.status_code "
   ]
  },
  {
   "cell_type": "code",
   "execution_count": null,
   "metadata": {
    "Collapsed": "false"
   },
   "outputs": [],
   "source": [
    "# utility function to retrieve drugs in module\n",
    "pk_drugs_df=get_drugs(url_safety, parameters)"
   ]
  },
  {
   "cell_type": "code",
   "execution_count": null,
   "metadata": {
    "Collapsed": "false"
   },
   "outputs": [],
   "source": [
    "pk_drugs_df.info(); pk_drugs_df.head()"
   ]
  },
  {
   "cell_type": "markdown",
   "metadata": {
    "Collapsed": "false"
   },
   "source": [
    "#### Query for Available Fields"
   ]
  },
  {
   "cell_type": "code",
   "execution_count": null,
   "metadata": {
    "Collapsed": "false"
   },
   "outputs": [],
   "source": [
    "# set parameters for api call\n",
    "parameters = dict()\n",
    "\n",
    "parameters['apiKey'] = api_key\n",
    "parameters['insttoken'] = insttoken\n",
    "url_pk=os.getenv('URL_PK_FIELDS')"
   ]
  },
  {
   "cell_type": "code",
   "execution_count": null,
   "metadata": {
    "Collapsed": "false"
   },
   "outputs": [],
   "source": [
    "# utility function to retrieve data fields\n",
    "df_fields=get_data_fields(url_pk, parameters)"
   ]
  },
  {
   "cell_type": "code",
   "execution_count": null,
   "metadata": {
    "Collapsed": "false"
   },
   "outputs": [],
   "source": [
    "df_fields"
   ]
  },
  {
   "cell_type": "markdown",
   "metadata": {
    "Collapsed": "false"
   },
   "source": [
    "#### Query for all PK parameters"
   ]
  },
  {
   "cell_type": "code",
   "execution_count": null,
   "metadata": {
    "Collapsed": "false"
   },
   "outputs": [],
   "source": [
    "# set parmeters for api call\n",
    "parameters=dict()\n",
    "\n",
    "parameters['apiKey']=api_key\n",
    "parameters['insttoken']=insttoken\n",
    "parameters['limitation.count']=0 \n",
    "parameters['species']='human'\n",
    "parameters['facets']='parameters'\n",
    "parameters['leaf']=True\n",
    "url_pk=os.getenv('URL_PK_SEARCH')"
   ]
  },
  {
   "cell_type": "code",
   "execution_count": null,
   "metadata": {
    "Collapsed": "false"
   },
   "outputs": [],
   "source": [
    "# utilitly function to retrieve available PK parameters\n",
    "df_params=get_pk_params(url_pk, parameters)\n"
   ]
  },
  {
   "cell_type": "code",
   "execution_count": null,
   "metadata": {
    "Collapsed": "false"
   },
   "outputs": [],
   "source": [
    "df_params.info(); df_params"
   ]
  },
  {
   "cell_type": "markdown",
   "metadata": {
    "Collapsed": "false"
   },
   "source": [
    "#### Query for PK Data"
   ]
  },
  {
   "cell_type": "code",
   "execution_count": null,
   "metadata": {
    "Collapsed": "false"
   },
   "outputs": [],
   "source": [
    "drugs_df=pd.read_pickle('./data/raw/clinical_drugs.pkl')"
   ]
  },
  {
   "cell_type": "code",
   "execution_count": null,
   "metadata": {
    "Collapsed": "false"
   },
   "outputs": [],
   "source": [
    "drugs_df.head()"
   ]
  },
  {
   "cell_type": "code",
   "execution_count": null,
   "metadata": {
    "Collapsed": "false"
   },
   "outputs": [],
   "source": [
    "# set PK parameters and fields of interest\n",
    "\n",
    "pk_param_list=['AUC', 'T1/2', 'Cmax', 'Vd', 'CL', 'Plasma protein binding', 'Bioavailability']\n",
    "\n",
    "field_list=['drug', 'parameter', 'sampleSize', 'sex', 'dose', 'duration', 'route', 'comments','valueNormalized', 'unitNormalized', 'valueOriginal']\n",
    "\n",
    "drugList=list(drugs_df.drug)\n",
    "\n",
    "drug_sample=drugList[:5]\n"
   ]
  },
  {
   "cell_type": "code",
   "execution_count": null,
   "metadata": {
    "Collapsed": "false"
   },
   "outputs": [],
   "source": [
    "parameters=dict()\n",
    "\n",
    "parameters['apiKey']=api_key\n",
    "parameters['insttoken']=insttoken\n",
    "parameters[\"limitation.count\"] = 0\n",
    "parameters[\"facets\"]=\"drugs\"\n",
    "parameters['species']='human'\n",
    "# parameters['leaf']=True\n",
    "url_pk=os.getenv('URL_PK_SEARCH')"
   ]
  },
  {
   "cell_type": "code",
   "execution_count": null,
   "metadata": {
    "Collapsed": "false"
   },
   "outputs": [],
   "source": [
    "# sanity check- test counts vs. GUI\n",
    "hit_count_list=[]\n",
    "url=os.getenv('URL_PK_SEARCH')\n",
    "with requests.Session() as s:\n",
    "    for drug in tqdm.tqdm(drug_sample):\n",
    "        parameters[\"drugs\"] = drug\n",
    "        parameters['limitation.count']=0\n",
    "        parameters['sources']= 'FDA Approval Packages', 'EMA approval documents'\n",
    "        r = s.get(url, params=parameters).json()\n",
    "        hits = r['data']['countTotal']\n",
    "        hit_count_list.append(int(hits))\n",
    "        "
   ]
  },
  {
   "cell_type": "code",
   "execution_count": null,
   "metadata": {
    "Collapsed": "false"
   },
   "outputs": [],
   "source": [
    "hit_count_list"
   ]
  },
  {
   "cell_type": "code",
   "execution_count": null,
   "metadata": {
    "Collapsed": "false"
   },
   "outputs": [],
   "source": [
    "# set parameters for api call\n",
    "parameters=dict()\n",
    "\n",
    "parameters['apiKey']=api_key\n",
    "parameters['insttoken']=insttoken\n",
    "parameters['species']='human'\n",
    "url_pk=os.getenv('URL_PK_SEARCH')"
   ]
  },
  {
   "cell_type": "code",
   "execution_count": null,
   "metadata": {
    "Collapsed": "false"
   },
   "outputs": [],
   "source": [
    "# choose PK parameters and data fields of interest\n",
    "pk_param_list=['AUC', 'T1/2', 'Cmax']\n",
    "field_list=['drug', 'parameter', 'sampleSize', 'sex', 'dose']\n",
    "drug_sample=drugList[:5] #select first 5 drugs for demonstration"
   ]
  },
  {
   "cell_type": "code",
   "execution_count": null,
   "metadata": {
    "Collapsed": "false"
   },
   "outputs": [],
   "source": [
    "# utility function to retrieve PK data\n",
    "df=get_PK_data(url_pk, drug_sample, field_list,  pk_param_list,  parameters)"
   ]
  },
  {
   "cell_type": "code",
   "execution_count": null,
   "metadata": {
    "Collapsed": "false"
   },
   "outputs": [],
   "source": [
    "df.info(); df.head()"
   ]
  },
  {
   "cell_type": "code",
   "execution_count": null,
   "metadata": {
    "Collapsed": "false"
   },
   "outputs": [],
   "source": [
    "df.to_csv('./data/raw/pp_pk_drugs.csv', index=False)"
   ]
  },
  {
   "cell_type": "markdown",
   "metadata": {
    "Collapsed": "false",
    "toc-hr-collapsed": true,
    "toc-nb-collapsed": true
   },
   "source": [
    "### Pharmapendium FAERS Query"
   ]
  },
  {
   "cell_type": "markdown",
   "metadata": {
    "Collapsed": "false"
   },
   "source": [
    "#### Query for all data fields"
   ]
  },
  {
   "cell_type": "code",
   "execution_count": null,
   "metadata": {
    "Collapsed": "false"
   },
   "outputs": [],
   "source": [
    "# set parameters for api call\n",
    "parameters=dict()\n",
    "parameters['apiKey']=api_key\n",
    "parameters['insttoken']=insttoken\n",
    "url_faers_fields=os.getenv('URL_FAERS_FIELDS')"
   ]
  },
  {
   "cell_type": "code",
   "execution_count": null,
   "metadata": {
    "Collapsed": "false"
   },
   "outputs": [],
   "source": [
    "# utility function to retrieve available data fields\n",
    "df_fields=get_data_fields(url_faers_fields, parameters)"
   ]
  },
  {
   "cell_type": "code",
   "execution_count": null,
   "metadata": {
    "Collapsed": "false"
   },
   "outputs": [],
   "source": [
    "df_fields"
   ]
  },
  {
   "cell_type": "markdown",
   "metadata": {
    "Collapsed": "false"
   },
   "source": [
    "#### Query for Available Facets Fields"
   ]
  },
  {
   "cell_type": "code",
   "execution_count": null,
   "metadata": {
    "Collapsed": "false"
   },
   "outputs": [],
   "source": [
    "# set parameters for api call\n",
    "parameters=dict()\n",
    "parameters['apiKey']=api_key\n",
    "parameters['insttoken']=insttoken\n",
    "url_faers_facets=os.getenv('URL_FAERS_listFacets')"
   ]
  },
  {
   "cell_type": "code",
   "execution_count": null,
   "metadata": {
    "Collapsed": "false"
   },
   "outputs": [],
   "source": [
    "# utility function to retrieve available facets fields\n",
    "df_facets=get_facet_fields(url_faers_facets, parameters)"
   ]
  },
  {
   "cell_type": "code",
   "execution_count": null,
   "metadata": {
    "Collapsed": "false",
    "scrolled": true
   },
   "outputs": [],
   "source": [
    "df_facets"
   ]
  },
  {
   "cell_type": "markdown",
   "metadata": {
    "Collapsed": "false"
   },
   "source": [
    "#### Query for All Drugs in FAERS"
   ]
  },
  {
   "cell_type": "code",
   "execution_count": null,
   "metadata": {
    "Collapsed": "false"
   },
   "outputs": [],
   "source": [
    "# set parameters for api call\n",
    "parameters=dict()\n",
    "\n",
    "parameters['apiKey']=api_key\n",
    "parameters['insttoken']=insttoken\n",
    "parameters['limitation.count'] = 0\n",
    "parameters['facets']=\"drugs\"\n",
    "parameters['leaf']=True\n",
    "url_faers=os.getenv('URL_FAERS')"
   ]
  },
  {
   "cell_type": "code",
   "execution_count": null,
   "metadata": {
    "Collapsed": "false"
   },
   "outputs": [],
   "source": [
    "# check status code of api call (200 is a successful api call)\n",
    "with requests.Session() as s:\n",
    "    r = s.get(url_faers, params=parameters)\n",
    "r.status_code "
   ]
  },
  {
   "cell_type": "code",
   "execution_count": null,
   "metadata": {
    "Collapsed": "false"
   },
   "outputs": [],
   "source": [
    "# utility function to retrieve available drugs\n",
    "drugs_df=get_drugs(url_faers, parameters)"
   ]
  },
  {
   "cell_type": "code",
   "execution_count": null,
   "metadata": {
    "Collapsed": "false"
   },
   "outputs": [],
   "source": [
    "drugs_df.info(); drugs_df.head()"
   ]
  },
  {
   "cell_type": "code",
   "execution_count": null,
   "metadata": {
    "Collapsed": "false"
   },
   "outputs": [],
   "source": [
    "drugs_df.to_pickle('./data/raw/faers_drugs.pkl')"
   ]
  },
  {
   "cell_type": "markdown",
   "metadata": {
    "Collapsed": "false"
   },
   "source": [
    "#### Query for Post-marketing Drug AEs"
   ]
  },
  {
   "cell_type": "code",
   "execution_count": null,
   "metadata": {
    "Collapsed": "false"
   },
   "outputs": [],
   "source": [
    "drugs_df=pd.read_pickle('./data/raw/faers_drugs.pkl')"
   ]
  },
  {
   "cell_type": "code",
   "execution_count": null,
   "metadata": {
    "Collapsed": "false"
   },
   "outputs": [],
   "source": [
    "drug_list=list(drugs_df.drug)\n",
    "len(drug_list)\n",
    "drug_sample[:5]"
   ]
  },
  {
   "cell_type": "code",
   "execution_count": null,
   "metadata": {
    "Collapsed": "false"
   },
   "outputs": [],
   "source": [
    "# set parameters for api call\n",
    "parameters=dict()\n",
    "\n",
    "parameters['apiKey']=api_key\n",
    "parameters['insttoken']=insttoken\n",
    "parameters['limitation.count'] = 0  \n",
    "parameters['facets']=\"effects\"\n",
    "parameters['leaf']=True\n",
    "\n",
    "url_faers=os.getenv('URL_FAERS')"
   ]
  },
  {
   "cell_type": "code",
   "execution_count": null,
   "metadata": {
    "Collapsed": "false"
   },
   "outputs": [],
   "source": [
    "# utility function to retrieve drug AEs from FAERS\n",
    "df_aes_faers=get_drug_aes_faers(url_faers, drug_sample, parameters)"
   ]
  },
  {
   "cell_type": "code",
   "execution_count": null,
   "metadata": {
    "Collapsed": "false"
   },
   "outputs": [],
   "source": [
    "df_aes_faers.info(); df_aes_faers.head()"
   ]
  },
  {
   "cell_type": "code",
   "execution_count": null,
   "metadata": {
    "Collapsed": "false"
   },
   "outputs": [],
   "source": [
    "df_aes_faers.ae.value_counts()"
   ]
  },
  {
   "cell_type": "markdown",
   "metadata": {
    "Collapsed": "false",
    "toc-hr-collapsed": true,
    "toc-nb-collapsed": true
   },
   "source": [
    "### Chemistry Query"
   ]
  },
  {
   "cell_type": "markdown",
   "metadata": {
    "Collapsed": "false"
   },
   "source": [
    "#### Query for Available Data Fields"
   ]
  },
  {
   "cell_type": "code",
   "execution_count": null,
   "metadata": {
    "Collapsed": "false"
   },
   "outputs": [],
   "source": [
    "# retrieve URLs from .env file\n",
    "url_chem_fields=os.getenv('URL_CHEM_FIELDS')\n",
    "url_chem_facets_fields=os.getenv('URL_CHEM_FACET_FIELDS')\n",
    "url_chem_post_search=os.getenv('URL_CHEM_SEARCH')"
   ]
  },
  {
   "cell_type": "code",
   "execution_count": null,
   "metadata": {
    "Collapsed": "false"
   },
   "outputs": [],
   "source": [
    "# set parameters for api call\n",
    "parameters=dict()\n",
    "parameters['apiKey']=api_key\n",
    "parameters['insttoken']=insttoken\n",
    "url_chem_fields=os.getenv('URL_CHEM_FIELDS')"
   ]
  },
  {
   "cell_type": "code",
   "execution_count": null,
   "metadata": {
    "Collapsed": "false"
   },
   "outputs": [],
   "source": [
    "# utility function for retrieving available data fields\n",
    "df_fields=get_data_fields(url_chem_fields, parameters)"
   ]
  },
  {
   "cell_type": "code",
   "execution_count": null,
   "metadata": {
    "Collapsed": "false"
   },
   "outputs": [],
   "source": [
    "df_fields"
   ]
  },
  {
   "cell_type": "markdown",
   "metadata": {
    "Collapsed": "false"
   },
   "source": [
    "#### Query for Available Facet Fields"
   ]
  },
  {
   "cell_type": "code",
   "execution_count": null,
   "metadata": {
    "Collapsed": "false"
   },
   "outputs": [],
   "source": [
    "# set parameters for api call\n",
    "parameters=dict()\n",
    "parameters['apiKey']=api_key\n",
    "parameters['insttoken']=insttoken\n",
    "url_chem_facets=os.getenv('URL_CHEM_FACET_FIELDS')"
   ]
  },
  {
   "cell_type": "code",
   "execution_count": null,
   "metadata": {
    "Collapsed": "false"
   },
   "outputs": [],
   "source": [
    "# utility function to retrieve available facets fields\n",
    "df_facets=get_facet_fields(url_chem_facets, parameters)"
   ]
  },
  {
   "cell_type": "code",
   "execution_count": null,
   "metadata": {
    "Collapsed": "false"
   },
   "outputs": [],
   "source": [
    "df_facets"
   ]
  },
  {
   "cell_type": "markdown",
   "metadata": {
    "Collapsed": "false"
   },
   "source": [
    "#### Chem Structure Search"
   ]
  },
  {
   "cell_type": "code",
   "execution_count": null,
   "metadata": {
    "Collapsed": "false"
   },
   "outputs": [],
   "source": [
    "# Note, double backslashes required.\n",
    "data=dict()\n",
    "data='{\"structure\":\"\\\\n  Ketcher 04282111472D 1   1.00000     0.00000     0\\\\n\\\\n 13 13  0     0  0            999 V2000\\\\n  -12.8250    0.5500    0.0000 C   0  0  0  0  0  0  0        0  0  0\\\\n  -11.9590    0.0500    0.0000 C   0  0  0  0  0  0  0        0  0  0\\\\n  -11.9590   -0.9500    0.0000 C   0  0  0  0  0  0  0        0  0  0\\\\n  -12.8250   -1.4500    0.0000 C   0  0  0  0  0  0  0        0  0  0\\\\n  -13.6910   -0.9500    0.0000 C   0  0  0  0  0  0  0        0  0  0\\\\n  -13.6910    0.0500    0.0000 C   0  0  0  0  0  0  0        0  0  0\\\\n  -11.0929    0.5500    0.0000 C   0  0  0  0  0  0  0        0  0  0\\\\n  -10.2269    0.0500    0.0000 O   0  0  0  0  0  0  0        0  0  0\\\\n  -11.0929    1.5500    0.0000 O   0  0  0  0  0  0  0        0  0  0\\\\n  -11.0929   -1.4500    0.0000 O   0  0  0  0  0  0  0        0  0  0\\\\n  -11.0929   -2.4500    0.0000 C   0  0  0  0  0  0  0        0  0  0\\\\n  -10.2269   -2.9500    0.0000 C   0  0  0  0  0  0  0        0  0  0\\\\n  -11.9590   -2.9500    0.0000 O   0  0  0  0  0  0  0        0  0  0\\\\n  1  2  1  0     0  0\\\\n  2  3  2  0     0  0\\\\n  3  4  1  0     0  0\\\\n  4  5  2  0     0  0\\\\n  5  6  1  0     0  0\\\\n  6  1  2  0     0  0\\\\n  2  7  1  0     0  0\\\\n  7  8  1  0     0  0\\\\n  7  9  2  0     0  0\\\\n  3 10  1  0     0  0\\\\n 10 11  1  0     0  0\\\\n 11 12  1  0     0  0\\\\n 11 13  2  0     0  0\\\\nM  END\\\\n\", \"type\":\"Substructure\", \"drugs\":[\"Analgesics\"]}'"
   ]
  },
  {
   "cell_type": "code",
   "execution_count": null,
   "metadata": {
    "Collapsed": "false"
   },
   "outputs": [],
   "source": [
    "# set parameters for an api post call\n",
    "headers=dict()\n",
    "\n",
    "headers['X-ELS-APIKey']=api_key\n",
    "headers['X-ELS-Insttoken']=insttoken\n",
    "headers['Content-Type']='application/json'\n",
    "headers['Accept']='application/json'\n",
    "url_chem_post_search=os.getenv('URL_CHEM_SEARCH')\n"
   ]
  },
  {
   "cell_type": "code",
   "execution_count": null,
   "metadata": {
    "Collapsed": "false"
   },
   "outputs": [],
   "source": [
    "headers"
   ]
  },
  {
   "cell_type": "code",
   "execution_count": null,
   "metadata": {
    "Collapsed": "false"
   },
   "outputs": [],
   "source": [
    "# perform api call and check status code\n",
    "r = requests.post(url_chem_post_search, headers=headers, data=data )\n",
    "r.status_code"
   ]
  },
  {
   "cell_type": "code",
   "execution_count": null,
   "metadata": {
    "Collapsed": "false"
   },
   "outputs": [],
   "source": [
    "# inspect output\n",
    "print(r.text)"
   ]
  },
  {
   "cell_type": "markdown",
   "metadata": {
    "Collapsed": "false",
    "toc-hr-collapsed": true,
    "toc-nb-collapsed": true
   },
   "source": [
    "### Efficacy"
   ]
  },
  {
   "cell_type": "markdown",
   "metadata": {
    "Collapsed": "false"
   },
   "source": [
    "#### Query for Available Data Fields"
   ]
  },
  {
   "cell_type": "code",
   "execution_count": null,
   "metadata": {
    "Collapsed": "false"
   },
   "outputs": [],
   "source": [
    "# set parameters for api call\n",
    "parameters = dict()\n",
    "\n",
    "parameters['apiKey']=api_key\n",
    "parameters['insttoken']=insttoken\n",
    "url_efficacy_fields = os.getenv('URL_EFFICACY_FIELDS')"
   ]
  },
  {
   "cell_type": "code",
   "execution_count": null,
   "metadata": {
    "Collapsed": "false"
   },
   "outputs": [],
   "source": [
    "# utility function to retrieve available data fields\n",
    "df_fields=get_data_fields(url_efficacy_fields, parameters)"
   ]
  },
  {
   "cell_type": "code",
   "execution_count": null,
   "metadata": {
    "Collapsed": "false"
   },
   "outputs": [],
   "source": [
    "df_fields"
   ]
  },
  {
   "cell_type": "markdown",
   "metadata": {
    "Collapsed": "false"
   },
   "source": [
    "#### Query for Available Facet Fields"
   ]
  },
  {
   "cell_type": "code",
   "execution_count": null,
   "metadata": {
    "Collapsed": "false"
   },
   "outputs": [],
   "source": [
    "# set parameters for api call\n",
    "parameters = dict()\n",
    "parameters['apiKey'] = api_key\n",
    "parameters['insttoken'] = insttoken\n",
    "url_efficacy_facets = os.getenv('URL_EFFICACY_FACET_FIELDS')\n"
   ]
  },
  {
   "cell_type": "code",
   "execution_count": null,
   "metadata": {
    "Collapsed": "false"
   },
   "outputs": [],
   "source": [
    "# utility function to retrieve available facets fields\n",
    "df_facets=get_facet_fields(url_efficacy_facets, parameters)"
   ]
  },
  {
   "cell_type": "code",
   "execution_count": null,
   "metadata": {
    "Collapsed": "false"
   },
   "outputs": [],
   "source": [
    "df_facets"
   ]
  },
  {
   "cell_type": "markdown",
   "metadata": {
    "Collapsed": "false"
   },
   "source": [
    "#### Query for Indication"
   ]
  },
  {
   "cell_type": "code",
   "execution_count": null,
   "metadata": {
    "Collapsed": "false"
   },
   "outputs": [],
   "source": [
    "# set parameters for api call\n",
    "parameters = dict()\n",
    "parameters['apiKey'] = api_key\n",
    "parameters['insttoken'] = insttoken\n",
    "parameters['drugs']='Abacavir Sulfate'\n",
    "parameters['limitation.count']=0\n",
    "parameters['species']='human'\n",
    "parameters['facets'] = ['indications', 'species']\n",
    "parameters['leaf']=True\n",
    "url_efficacy_search=os.getenv('URL_EFFICACY_SEARCH')"
   ]
  },
  {
   "cell_type": "code",
   "execution_count": null,
   "metadata": {
    "Collapsed": "false"
   },
   "outputs": [],
   "source": [
    "# api call\n",
    "with requests.Session() as s:\n",
    "        r = s.get(url_efficacy_search, params=parameters).json()"
   ]
  },
  {
   "cell_type": "code",
   "execution_count": null,
   "metadata": {
    "Collapsed": "false",
    "scrolled": true
   },
   "outputs": [],
   "source": [
    "# check output\n",
    "r['data']\n",
    "r['facets']"
   ]
  },
  {
   "cell_type": "code",
   "execution_count": null,
   "metadata": {
    "Collapsed": "false"
   },
   "outputs": [],
   "source": []
  }
 ],
 "metadata": {
  "kernelspec": {
   "display_name": "pp_scripts",
   "language": "python",
   "name": "pharmapend"
  },
  "language_info": {
   "codemirror_mode": {
    "name": "ipython",
    "version": 3
   },
   "file_extension": ".py",
   "mimetype": "text/x-python",
   "name": "python",
   "nbconvert_exporter": "python",
   "pygments_lexer": "ipython3",
   "version": "3.7.3"
  }
 },
 "nbformat": 4,
 "nbformat_minor": 4
}
